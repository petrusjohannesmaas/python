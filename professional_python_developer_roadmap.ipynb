{
 "cells": [
  {
   "cell_type": "markdown",
   "id": "a1ed7da3-bac2-48f2-a504-e0cd88e9ce27",
   "metadata": {},
   "source": [
    "# Professional Python Developer Roadmap\n",
    "\n",
    "- I've created my roadmap based on this Youtube video: https://www.youtube.com/watch?v=3QP43F4gVIE\n",
    "- Every topic will have a capstone project with an Article that gets uploaded to pjmaas.eth domain."
   ]
  },
  {
   "cell_type": "markdown",
   "id": "8fe8d8a2-6c14-4843-b5bb-4b847dc560a6",
   "metadata": {},
   "source": [
    "#### Path of the NERD\n",
    "\n",
    "**Boss Quest:** Databases and SQL for Data Science with Python Certificate\n",
    "\n",
    "* Development Environment\n",
    "    - *Project: Debian configuration for Python development server (WSL + Native)*\n",
    "\n",
    "* Source Control (Basic)\n",
    "    - *Project: Basic version control for remote development*\n",
    "\n",
    "* Programming Language\n",
    "    - *Project: JSON data handling in Python*\n",
    "\n",
    "* Testing\n",
    "    - *Project: Pylint and Black for simple iterative testing.*\n",
    "\n",
    "* Framework\n",
    "    - *Project: API's with Protobuf gRPC*\n",
    "\n",
    "* Database\n",
    "    - *Project: MySQL CRUD principles with gRPC*\n",
    "\n",
    "* Retrospect Report\n",
    "    - *Project: Discuss performance metrics* "
   ]
  },
  {
   "cell_type": "markdown",
   "id": "52f8da30",
   "metadata": {},
   "source": [
    "#### Path of the Programmer\n",
    "\n",
    "**Boss Quest:** PCEP-30 Certification\n",
    "\n",
    "* Notation\n",
    "* NoSQL\n",
    "* Source control (Advanced)\n",
    "* Containerization\n",
    "* Monitoring\n",
    "* CDN\n",
    "* Front End Framework\n",
    "* Mobile\n",
    "* Retrospect Report"
   ]
  },
  {
   "cell_type": "markdown",
   "id": "28000dc2",
   "metadata": {},
   "source": [
    "#### Path of the Associate\n",
    "**Boss Quest:** PCAP-30 Certification\n",
    "\n",
    "* Hosting\n",
    "* CI/CD\n",
    "* Protocols\n",
    "* Distributed Caching\n",
    "* Orchestration\n",
    "* Cloud Architecture\n",
    "* Retrospect Report"
   ]
  },
  {
   "cell_type": "markdown",
   "id": "e531cba1",
   "metadata": {},
   "source": [
    "#### Path of the Scientist\n",
    "**Final Quest:** PCPP-32-1 and PCPP-32-2 Certification\n",
    "\n",
    "* Lower Level Language\n",
    "* Blockchain\n",
    "* Artificial Intelligence\n",
    "* Cybersecurity\n",
    "* Retrospect Report"
   ]
  },
  {
   "cell_type": "markdown",
   "id": "9e592df1-ccb5-4e94-8e8a-9ae3cf582b2b",
   "metadata": {},
   "source": [
    "### Application Demo\n",
    "\n",
    "#### Welcome\n",
    "```bash\n",
    "Hello PJ. Choose your path and start hacking.\n",
    "\n",
    "[1] NERD (Easy) \n",
    "[2] PROGRAMMER (Medium) \n",
    "[3] ASSOCIATE (Hard) \n",
    "[4] SCIENTIST (Mastery)\n",
    "\n",
    "Help: type 1, 2, 3 or 4\n",
    "```\n",
    "\n",
    "#### Path example\n",
    "```bash\n",
    "[PATH OF THE NERD]\n",
    "Boss quest: Databases and SQL for Data Science with Python Certificate by IBM\n",
    "\n",
    "    Development Environment\n",
    "    Source Control\n",
    "    Programming Language\n",
    "    Testing\n",
    "    API's\n",
    "    Back-end Framework\n",
    "    Database\n",
    "    ORM\n",
    "    Retrospect Report\n",
    "\n",
    "\n",
    "Help: | type \"next\" if done | type \"close\" to terminate |\n",
    "```"
   ]
  }
 ],
 "metadata": {
  "kernelspec": {
   "display_name": "Python 3 (ipykernel)",
   "language": "python",
   "name": "python3"
  },
  "language_info": {
   "codemirror_mode": {
    "name": "ipython",
    "version": 3
   },
   "file_extension": ".py",
   "mimetype": "text/x-python",
   "name": "python",
   "nbconvert_exporter": "python",
   "pygments_lexer": "ipython3",
   "version": "3.12.6"
  }
 },
 "nbformat": 4,
 "nbformat_minor": 5
}
