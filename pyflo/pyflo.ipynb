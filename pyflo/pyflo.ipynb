{
 "cells": [
  {
   "cell_type": "markdown",
   "id": "d1049214-9b43-47b1-9415-bc3ec77b04df",
   "metadata": {},
   "source": [
    "## PyFlo: Beginner\n",
    "\n",
    "#### The beginners guide to becoming a Python programmer\n",
    "\n",
    "- Link to PyFlo roadmap and resources: https://pyflo.net/"
   ]
  },
  {
   "cell_type": "markdown",
   "id": "6047e300-5f35-4f13-903a-f0dfa093248a",
   "metadata": {
    "jp-MarkdownHeadingCollapsed": true
   },
   "source": [
    "**What is Programming?**\n",
    "\n",
    "When we “program” a computer we are writing instructions that we want the computer to follow, before it begins the process of following those instructions. The word “program” can be traced back to the Greek words “pro” (before) and “graphein” (write).\n",
    "\n",
    "The process of a human writing computer code is analogous to one human giving instructions for another human to follow. A classic example of this comes to play in food-preparation recipes. \n",
    "\n",
    "Another thing to consider about computer programming is the language with which we tell a computer what to do. In a similar sense, there is an abundance of computer language varieties, each with their pros/cons and differences/similarities. Whereas the four most popular human languages in the world are English, Mandarin, Hindi, and Spanish, some of the most commonly-used computer languages in the world are Java, Python, C, and Javascript. For the purpose of this series of lessons, we will be sticking mainly to Python as the language-of-choice. So what is Python?"
   ]
  },
  {
   "cell_type": "markdown",
   "id": "e8c58072-e7da-41c6-80f0-a7de0cd49169",
   "metadata": {},
   "source": [
    "**What is Python?**\n",
    "\n",
    "Python is one of the most popular programming languages in the world. We can use the python language to give instructions to a computer to get it to complete tasks on our behalf.\n",
    "\n",
    "When we develop programs (or “code”) we are writing a sequence of precise instructions for the computer to follow. As an example, take a look at the short python program below. This program is used to determine if a US citizen needs to get a new passport or not. US passports are valid for 10 years after the time it was created."
   ]
  },
  {
   "cell_type": "code",
   "execution_count": 7,
   "id": "44488a5d-37ee-49c3-a310-5daa39337cca",
   "metadata": {},
   "outputs": [
    {
     "name": "stdin",
     "output_type": "stream",
     "text": [
      "What year did you get your passport?  2015\n"
     ]
    },
    {
     "name": "stdout",
     "output_type": "stream",
     "text": [
      "You may use your current passport\n"
     ]
    }
   ],
   "source": [
    "# import time\n",
    "\n",
    "current_year = int(time.strftime('%Y'))\n",
    "received_year = int(input('What year did you get your passport? '))\n",
    "if received_year + 10 < current_year:\n",
    "    print('You should go get a new passport')\n",
    "else:\n",
    "    print('You may use your current passport')"
   ]
  },
  {
   "attachments": {
    "3bef5319-22ed-422c-8d69-1637a2656522.png": {
     "image/png": "[encoded data removed]"
    }
   },
   "cell_type": "markdown",
   "id": "4da9e32b-0a67-4e59-b54a-0a9d3a9c90ab",
   "metadata": {},
   "source": [
    "**Input and Output**\n",
    "\n",
    "When a computer program is running, it sometimes (oftentimes) needs to get direction, or information from the person using the it. For example, say we are on a desktop computer and we want to open up a web browser, navigate to google.com, and search for mountain lions so that we can read about them for an article we need to write. The computer doesn’t just read our mind and know that that’s what we are trying to do (at least, not yet :). Instead, we need to give the computer some input to let it know what we want to do and how we want it to go about it.\n",
    "\n",
    "*Probably the three most common ways of giving a computer input are:*\n",
    "\n",
    "- click (with the mouse)\n",
    "- type (with the keyboard\n",
    "- touch (via a touchscreen)\n",
    "\n",
    "After determining how we can give a computer input, we can also think about the types of output it can respond with. The programs most people use on a regular basis don’t just produce plain-text, but this is the simplest kind of output.\n",
    "\n",
    "*We can thus also group out output into three main categories:*\n",
    "\n",
    "- graphical (displayed on a screen)\n",
    "- audio (through speakers / headphones)\n",
    "- textual (also shown on a screen)\n",
    "\n",
    "![image.png](attachment:3bef5319-22ed-422c-8d69-1637a2656522.png)"
   ]
  },
  {
   "cell_type": "markdown",
   "id": "dbdf3817-502d-46ea-8097-cb43b8cace24",
   "metadata": {},
   "source": [
    "**Printing**\n",
    "\n",
    "The first kind of output you will learn how to produce in python is text-based output. About the simplest possible program you can write in python is one that prints out some word(s) to standard output. "
   ]
  },
  {
   "cell_type": "code",
   "execution_count": 8,
   "id": "ac8a4793-50c6-42d0-a961-dcd37af2c706",
   "metadata": {},
   "outputs": [
    {
     "name": "stdout",
     "output_type": "stream",
     "text": [
      "Outputted text successfully\n"
     ]
    }
   ],
   "source": [
    "print('Outputted text successfully')"
   ]
  },
  {
   "cell_type": "markdown",
   "id": "6714125b-7a91-45a1-ae8a-885208f3bca7",
   "metadata": {},
   "source": [
    "Let’s study this simple program in a bit more depth. The first part of the line, `print`, represents the name of a function that is built-in to python that we are invoking. If you want a function to be invoked (to do its job) you have to put a pair of parentheses after it. This tells python to call this function. \n",
    "\n",
    "In python, text enclosed within quotes is referred to as a string. String can be specified with either single-quotes or double-quotes. You can actually insert your own newlines into a string wherever you want, by writing \\n."
   ]
  },
  {
   "cell_type": "code",
   "execution_count": 10,
   "id": "b04429d8-ebf3-4d82-9a4d-dd9da27c1e7f",
   "metadata": {},
   "outputs": [
    {
     "name": "stdout",
     "output_type": "stream",
     "text": [
      "the\n",
      "big\n",
      "black\n",
      "box\n"
     ]
    }
   ],
   "source": [
    "print(\"the\\nbig\\nblack\\nbox\")"
   ]
  },
  {
   "cell_type": "markdown",
   "id": "1c271099-4f7e-453a-9fa0-09eeac24e033",
   "metadata": {},
   "source": [
    "In this program, I tell the print function to put a space (' ') rather than a newline ('\\\\\\\\n') at the end instead. "
   ]
  },
  {
   "cell_type": "code",
   "execution_count": 11,
   "id": "867d3af3-83d6-4131-ac55-4a39b37d1b74",
   "metadata": {},
   "outputs": [
    {
     "name": "stdout",
     "output_type": "stream",
     "text": [
      "the big black box "
     ]
    }
   ],
   "source": [
    "print(\"the\", end=' ')\n",
    "print('big', end=' ')\n",
    "print(\"black\", end=' ')\n",
    "print('box', end=' ')"
   ]
  },
  {
   "cell_type": "markdown",
   "id": "27d1d049-6ce5-4dd4-9c2d-1c15f536d8a1",
   "metadata": {},
   "source": [
    "There’s a special kind of python strings referred to as a multi-line string. We can specify multi-line strings if we begin and end the string with three quotes in-a-row, rather than just one."
   ]
  },
  {
   "cell_type": "code",
   "execution_count": 13,
   "id": "5fba68ee-3dcc-4edc-92ca-66a241d6e826",
   "metadata": {},
   "outputs": [
    {
     "name": "stdout",
     "output_type": "stream",
     "text": [
      "There once was a fellow\n",
      "Who came from the meadow\n",
      "And desired to settle\n",
      "In caves of yellow\n"
     ]
    }
   ],
   "source": [
    "print(\"\"\"There once was a fellow\n",
    "Who came from the meadow\n",
    "And desired to settle\n",
    "In caves of yellow\"\"\")"
   ]
  },
  {
   "cell_type": "markdown",
   "id": "a1dec0cb-153d-4b8e-a6c5-32a1347c7826",
   "metadata": {},
   "source": [
    "**Variables and Concatenation**\n",
    "\n",
    "When writing python programs, it is often useful to be able to give a “name” to a value in a program. As a motivating exaple, lets use this program, which prints out a short part of a made-up script:"
   ]
  },
  {
   "cell_type": "code",
   "execution_count": 1,
   "id": "47b4cfe5-6c73-4151-b043-3a0f1e048838",
   "metadata": {},
   "outputs": [
    {
     "name": "stdout",
     "output_type": "stream",
     "text": [
      "John: Hi Luke, long time since we talked last.\n",
      "Luke: Hi John! How have you been?\n",
      "John: I have been well. Do you wanna go get lunch?\n",
      "Luke: Yes!\n",
      "John: Great, we can meet at In-n-Out burger next week\n"
     ]
    }
   ],
   "source": [
    "print('John: Hi Luke, long time since we talked last.')\n",
    "print('Luke: Hi John! How have you been?')\n",
    "print('John: I have been well. Do you wanna go get lunch?')\n",
    "print('Luke: Yes!')\n",
    "print('John: Great, we can meet at In-n-Out burger next week')"
   ]
  },
  {
   "cell_type": "markdown",
   "id": "17fb9a32-e84a-4916-bbd2-2e99de895465",
   "metadata": {},
   "source": [
    "Imagine if this program were much longer, and John was mentioned 100 times! It would be quite a tedious process to change every John to James (unless we used a find / replace search). Instead, it might be useful to use a variable for the names of our two characters. We can also change the names of the characters dynamically without updating it everyowhere. We could write this instead:"
   ]
  },
  {
   "cell_type": "code",
   "execution_count": 3,
   "id": "8ec59185-c83f-4855-a1a4-5b7c76a73244",
   "metadata": {},
   "outputs": [
    {
     "name": "stdout",
     "output_type": "stream",
     "text": [
      "Piet: Hi Luke, long time since we talked last.\n",
      "Luke: Hi Piet! How have you been?\n",
      "Piet: I have been well. Do you wanna go get lunch?\n",
      "Luke: Yes!\n",
      "Piet: Great, we can meet at In-n-Out burger next week\n"
     ]
    }
   ],
   "source": [
    "character_1 = 'Piet'\n",
    "character_2 = 'Luke'\n",
    "print(character_1 + ': Hi ' + character_2 + ', long time since we talked last.')\n",
    "print(character_2 + ': Hi ' + character_1 + '! How have you been?')\n",
    "print(character_1 + ': I have been well. Do you wanna go get lunch?')\n",
    "print(character_2 + ': Yes!')\n",
    "print(character_1 + ': Great, we can meet at In-n-Out burger next week')"
   ]
  },
  {
   "cell_type": "markdown",
   "id": "1e1f4c14-9cab-4555-a98e-9b0c3e8e7fbb",
   "metadata": {},
   "source": [
    "Another thing to note about this program is the use of the + sign. In python, you can combine two strings together using this symbol. The official term for combining two strings in this manner is concatenation. "
   ]
  },
  {
   "cell_type": "code",
   "execution_count": 4,
   "id": "348e522e-2c38-4bbb-a3ec-2ec7cd99c641",
   "metadata": {},
   "outputs": [
    {
     "name": "stdout",
     "output_type": "stream",
     "text": [
      "bear cheetah\n",
      "bearcheetah\n"
     ]
    }
   ],
   "source": [
    "value_1 = 'bear'\n",
    "value_2 = 'cheetah'\n",
    "print(value_1, value_2)\n",
    "print(value_1 + value_2)"
   ]
  },
  {
   "cell_type": "markdown",
   "id": "a8a83a7b-a03e-471c-b21a-433f48918d9a",
   "metadata": {},
   "source": [
    "**Input Fuction**\n",
    "\n",
    "One of the simplest ways to get input from a user in Python is via the `input` function. Using this function, we can ask the user to give us strings that we can then use in our program. Calling the `input` function is similar to the print function. For example:"
   ]
  },
  {
   "cell_type": "code",
   "execution_count": 6,
   "id": "4ed322e7-1df4-4b32-b2c0-b843dff1bd00",
   "metadata": {},
   "outputs": [
    {
     "name": "stdin",
     "output_type": "stream",
     "text": [
      "Type an address:  Test Address\n"
     ]
    },
    {
     "data": {
      "text/plain": [
       "'Test Address'"
      ]
     },
     "execution_count": 6,
     "metadata": {},
     "output_type": "execute_result"
    }
   ],
   "source": [
    "input('Type an address: ')"
   ]
  },
  {
   "attachments": {
    "0172376b-e2e9-43ed-9123-21aefdb669e3.png": {
     "image/png": "[encoded data removed]"
    }
   },
   "cell_type": "markdown",
   "id": "4ca41c85-6623-4e5e-9aed-177c88092cdd",
   "metadata": {},
   "source": [
    "However, it is not very useful unless we actually do something with the value that is entered. We say that the input function returns the string that the user types in. Therefore, we need to put a variable = before the call to the function, in order to save the string. This variable will refer to whatever the user typed, and then it can be used! \n",
    "\n",
    "![image.png](attachment:0172376b-e2e9-43ed-9123-21aefdb669e3.png)"
   ]
  },
  {
   "cell_type": "code",
   "execution_count": 7,
   "id": "6fa7f803-f3d1-4864-84eb-94c6fb9acb8e",
   "metadata": {},
   "outputs": [
    {
     "name": "stdin",
     "output_type": "stream",
     "text": [
      "Type an address:  New Address\n"
     ]
    },
    {
     "name": "stdout",
     "output_type": "stream",
     "text": [
      "The address you typed is: New Address\n"
     ]
    }
   ],
   "source": [
    "address = input('Type an address: ')\n",
    "print('The address you typed is: ' + address)"
   ]
  },
  {
   "cell_type": "markdown",
   "id": "bc9ea2dd-3f2f-4b27-b4cc-ff670efd18c5",
   "metadata": {},
   "source": [
    "Using our previous example script, what if we wanted this script to not have fixed character names. Rather, we could have the user choose what the names of the two characters are, so it could be customizable depending on the user preference. We could change the first two lines so that the program requests inputs, rather than having fixed names:"
   ]
  },
  {
   "cell_type": "code",
   "execution_count": 8,
   "id": "1b437026-16fb-4ad1-828c-b2068a9d618a",
   "metadata": {},
   "outputs": [
    {
     "name": "stdin",
     "output_type": "stream",
     "text": [
      "Name for character 1:  Sarel\n",
      "Name for character 2:  Peter\n"
     ]
    },
    {
     "name": "stdout",
     "output_type": "stream",
     "text": [
      "Sarel: Hi Peter, long time since we talked last.\n",
      "Peter: Hi Sarel! How have you been?\n",
      "Sarel: I have been well. Do you wanna go get lunch?\n",
      "Peter: Yes!\n",
      "Sarel: Great, we can meet at In-n-Out burger next week\n"
     ]
    }
   ],
   "source": [
    "character_1 = input('Name for character 1: ')\n",
    "character_2 = input('Name for character 2: ')\n",
    "print(character_1 + ': Hi ' + character_2 + ', long time since we talked last.')\n",
    "print(character_2 + ': Hi ' + character_1 + '! How have you been?')\n",
    "print(character_1 + ': I have been well. Do you wanna go get lunch?')\n",
    "print(character_2 + ': Yes!')\n",
    "print(character_1 + ': Great, we can meet at In-n-Out burger next week')"
   ]
  },
  {
   "cell_type": "markdown",
   "id": "e6ff19af-ad77-477d-ae71-afcc1d616fc0",
   "metadata": {},
   "source": [
    "**Integers**\n",
    "\n",
    "An integer (sometimes shortened to just int) is a data type in Python that is used to represent whole numbers. An integer can be numbers such as 1, 0, 75, 100, and so on. In Python, integers cannot represent numbers with decimals or fractions. So for example, we could not represent the value 3.14 with an int."
   ]
  },
  {
   "cell_type": "code",
   "execution_count": 11,
   "id": "328343a6-542f-42aa-afff-29fc4a797ae2",
   "metadata": {},
   "outputs": [
    {
     "name": "stdout",
     "output_type": "stream",
     "text": [
      "His name is Pierre\n",
      "Pierre can be contacted at pierre@gmail.com\n"
     ]
    },
    {
     "ename": "TypeError",
     "evalue": "can only concatenate str (not \"int\") to str",
     "output_type": "error",
     "traceback": [
      "\u001b[0;31m---------------------------------------------------------------------------\u001b[0m",
      "\u001b[0;31mTypeError\u001b[0m                                 Traceback (most recent call last)",
      "Cell \u001b[0;32mIn[11], line 8\u001b[0m\n\u001b[1;32m      6\u001b[0m \u001b[38;5;28mprint\u001b[39m(\u001b[38;5;124m'\u001b[39m\u001b[38;5;124mHis name is \u001b[39m\u001b[38;5;124m'\u001b[39m \u001b[38;5;241m+\u001b[39m name)\n\u001b[1;32m      7\u001b[0m \u001b[38;5;28mprint\u001b[39m(name \u001b[38;5;241m+\u001b[39m \u001b[38;5;124m'\u001b[39m\u001b[38;5;124m can be contacted at \u001b[39m\u001b[38;5;124m'\u001b[39m \u001b[38;5;241m+\u001b[39m email)\n\u001b[0;32m----> 8\u001b[0m \u001b[38;5;28mprint\u001b[39m(\u001b[38;5;124;43m'\u001b[39;49m\u001b[38;5;124;43mHe is \u001b[39;49m\u001b[38;5;124;43m'\u001b[39;49m\u001b[43m \u001b[49m\u001b[38;5;241;43m+\u001b[39;49m\u001b[43m \u001b[49m\u001b[43mage\u001b[49m \u001b[38;5;241m+\u001b[39m \u001b[38;5;124m'\u001b[39m\u001b[38;5;124m years old and is \u001b[39m\u001b[38;5;124m'\u001b[39m \u001b[38;5;241m+\u001b[39m height \u001b[38;5;241m+\u001b[39m \u001b[38;5;124m'\u001b[39m\u001b[38;5;124m inches tall\u001b[39m\u001b[38;5;124m'\u001b[39m)\n",
      "\u001b[0;31mTypeError\u001b[0m: can only concatenate str (not \"int\") to str"
     ]
    }
   ],
   "source": [
    "name = 'Pierre'\n",
    "email = 'pierre@gmail.com'\n",
    "age = 50\n",
    "height = 72\n",
    "\n",
    "print('His name is ' + name)\n",
    "print(name + ' can be contacted at ' + email)\n",
    "print('He is ' + age + ' years old and is ' + height + ' inches tall')"
   ]
  },
  {
   "cell_type": "markdown",
   "id": "b00ae14d-59b1-4431-b906-3fe18f26f0fb",
   "metadata": {},
   "source": [
    "Notice that the program printed out two lines (His name is Pierre and Pierre can be contacted at pierre@gmail.com) but an error occurred when trying to print the third one. Why? Look closely at the error message. It indicates that it happened on line 7, and the message says: TypeError: must be str, not int. This indicates that something in our program needs to be a str (string) in order to work properly, but it was actually an int. The problem is that we tried to + a string ('He is ') with an integer (age) which is not supported in Python! If you want to print out an integer alongside a string, you need to convert the int to a str. You can do this with the str function."
   ]
  },
  {
   "cell_type": "code",
   "execution_count": 12,
   "id": "4b5806b6-d97f-4949-8d6b-48f5e563f5b3",
   "metadata": {},
   "outputs": [
    {
     "name": "stdout",
     "output_type": "stream",
     "text": [
      "His name is Pierre\n",
      "Pierre can be contacted at pierre@gmail.com\n",
      "He is 50 years old and is 72 inches tall\n"
     ]
    }
   ],
   "source": [
    "print('His name is ' + name)\n",
    "print(name + ' can be contacted at ' + email)\n",
    "print('He is ' +str(age) + ' years old and is ' + str(height) + ' inches tall')"
   ]
  },
  {
   "cell_type": "code",
   "execution_count": null,
   "id": "4296cbab-64d9-424f-8598-597a693bdc5f",
   "metadata": {},
   "outputs": [],
   "source": []
  }
 ],
 "metadata": {
  "kernelspec": {
   "display_name": "Python 3 (ipykernel)",
   "language": "python",
   "name": "python3"
  },
  "language_info": {
   "codemirror_mode": {
    "name": "ipython",
    "version": 3
   },
   "file_extension": ".py",
   "mimetype": "text/x-python",
   "name": "python",
   "nbconvert_exporter": "python",
   "pygments_lexer": "ipython3",
   "version": "3.12.6"
  }
 },
 "nbformat": 4,
 "nbformat_minor": 5
}
