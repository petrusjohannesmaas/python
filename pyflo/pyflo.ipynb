{
 "cells": [
  {
   "cell_type": "markdown",
   "id": "d1049214-9b43-47b1-9415-bc3ec77b04df",
   "metadata": {},
   "source": [
    "## PyFlo: Beginner\n",
    "\n",
    "#### The beginners guide to becoming a Python programmer\n",
    "\n",
    "- Link to PyFlo roadmap and resources: https://pyflo.net/"
   ]
  },
  {
   "cell_type": "markdown",
   "id": "6047e300-5f35-4f13-903a-f0dfa093248a",
   "metadata": {
    "jp-MarkdownHeadingCollapsed": true
   },
   "source": [
    "**What is Programming?**\n",
    "\n",
    "When we “program” a computer we are writing instructions that we want the computer to follow, before it begins the process of following those instructions. The word “program” can be traced back to the Greek words “pro” (before) and “graphein” (write).\n",
    "\n",
    "The process of a human writing computer code is analogous to one human giving instructions for another human to follow. A classic example of this comes to play in food-preparation recipes. \n",
    "\n",
    "Another thing to consider about computer programming is the language with which we tell a computer what to do. In a similar sense, there is an abundance of computer language varieties, each with their pros/cons and differences/similarities. Whereas the four most popular human languages in the world are English, Mandarin, Hindi, and Spanish, some of the most commonly-used computer languages in the world are Java, Python, C, and Javascript. For the purpose of this series of lessons, we will be sticking mainly to Python as the language-of-choice. So what is Python?"
   ]
  },
  {
   "cell_type": "markdown",
   "id": "e8c58072-e7da-41c6-80f0-a7de0cd49169",
   "metadata": {},
   "source": [
    "**What is Python?**\n",
    "\n",
    "Python is one of the most popular programming languages in the world. We can use the python language to give instructions to a computer to get it to complete tasks on our behalf.\n",
    "\n",
    "When we develop programs (or “code”) we are writing a sequence of precise instructions for the computer to follow. As an example, take a look at the short python program below. This program is used to determine if a US citizen needs to get a new passport or not. US passports are valid for 10 years after the time it was created."
   ]
  },
  {
   "cell_type": "code",
   "execution_count": 7,
   "id": "44488a5d-37ee-49c3-a310-5daa39337cca",
   "metadata": {},
   "outputs": [
    {
     "name": "stdout",
     "output_type": "stream",
     "text": [
      "What year did you get your passport?  2015\n"
     ]
    },
    {
     "name": "stdout",
     "output_type": "stream",
     "text": [
      "You may use your current passport\n"
     ]
    }
   ],
   "source": [
    "# import time\n",
    "\n",
    "current_year = int(time.strftime('%Y'))\n",
    "received_year = int(input('What year did you get your passport? '))\n",
    "if received_year + 10 < current_year:\n",
    "    print('You should go get a new passport')\n",
    "else:\n",
    "    print('You may use your current passport')"
   ]
  },
  {
   "attachments": {
    "3bef5319-22ed-422c-8d69-1637a2656522.png": {
     "image/png": "[encoded data removed]"
    }
   },
   "cell_type": "markdown",
   "id": "4da9e32b-0a67-4e59-b54a-0a9d3a9c90ab",
   "metadata": {},
   "source": [
    "**Input and Output**\n",
    "\n",
    "When a computer program is running, it sometimes (oftentimes) needs to get direction, or information from the person using the it. For example, say we are on a desktop computer and we want to open up a web browser, navigate to google.com, and search for mountain lions so that we can read about them for an article we need to write. The computer doesn’t just read our mind and know that that’s what we are trying to do (at least, not yet :). Instead, we need to give the computer some input to let it know what we want to do and how we want it to go about it.\n",
    "\n",
    "*Probably the three most common ways of giving a computer input are:*\n",
    "\n",
    "- click (with the mouse)\n",
    "- type (with the keyboard\n",
    "- touch (via a touchscreen)\n",
    "\n",
    "After determining how we can give a computer input, we can also think about the types of output it can respond with. The programs most people use on a regular basis don’t just produce plain-text, but this is the simplest kind of output.\n",
    "\n",
    "*We can thus also group out output into three main categories:*\n",
    "\n",
    "- graphical (displayed on a screen)\n",
    "- audio (through speakers / headphones)\n",
    "- textual (also shown on a screen)\n",
    "\n",
    "![image.png](attachment:3bef5319-22ed-422c-8d69-1637a2656522.png)"
   ]
  },
  {
   "cell_type": "markdown",
   "id": "dbdf3817-502d-46ea-8097-cb43b8cace24",
   "metadata": {},
   "source": [
    "**Printing**\n",
    "\n",
    "The first kind of output you will learn how to produce in python is text-based output. About the simplest possible program you can write in python is one that prints out some word(s) to standard output. "
   ]
  },
  {
   "cell_type": "code",
   "execution_count": 8,
   "id": "ac8a4793-50c6-42d0-a961-dcd37af2c706",
   "metadata": {},
   "outputs": [
    {
     "name": "stdout",
     "output_type": "stream",
     "text": [
      "Outputted text successfully\n"
     ]
    }
   ],
   "source": [
    "print('Outputted text successfully')"
   ]
  },
  {
   "cell_type": "markdown",
   "id": "6714125b-7a91-45a1-ae8a-885208f3bca7",
   "metadata": {},
   "source": [
    "Let’s study this simple program in a bit more depth. The first part of the line, `print`, represents the name of a function that is built-in to python that we are invoking. If you want a function to be invoked (to do its job) you have to put a pair of parentheses after it. This tells python to call this function. \n",
    "\n",
    "In python, text enclosed within quotes is referred to as a string. String can be specified with either single-quotes or double-quotes. You can actually insert your own newlines into a string wherever you want, by writing \\n."
   ]
  },
  {
   "cell_type": "code",
   "execution_count": 10,
   "id": "b04429d8-ebf3-4d82-9a4d-dd9da27c1e7f",
   "metadata": {},
   "outputs": [
    {
     "name": "stdout",
     "output_type": "stream",
     "text": [
      "the\n",
      "big\n",
      "black\n",
      "box\n"
     ]
    }
   ],
   "source": [
    "print(\"the\\nbig\\nblack\\nbox\")"
   ]
  },
  {
   "cell_type": "markdown",
   "id": "1c271099-4f7e-453a-9fa0-09eeac24e033",
   "metadata": {},
   "source": [
    "In this program, I tell the print function to put a space (' ') rather than a newline ('\\\\\\\\n') at the end instead. "
   ]
  },
  {
   "cell_type": "code",
   "execution_count": 11,
   "id": "867d3af3-83d6-4131-ac55-4a39b37d1b74",
   "metadata": {},
   "outputs": [
    {
     "name": "stdout",
     "output_type": "stream",
     "text": [
      "the big black box "
     ]
    }
   ],
   "source": [
    "print(\"the\", end=' ')\n",
    "print('big', end=' ')\n",
    "print(\"black\", end=' ')\n",
    "print('box', end=' ')"
   ]
  },
  {
   "cell_type": "markdown",
   "id": "27d1d049-6ce5-4dd4-9c2d-1c15f536d8a1",
   "metadata": {},
   "source": [
    "There’s a special kind of python strings referred to as a multi-line string. We can specify multi-line strings if we begin and end the string with three quotes in-a-row, rather than just one."
   ]
  },
  {
   "cell_type": "code",
   "execution_count": 13,
   "id": "5fba68ee-3dcc-4edc-92ca-66a241d6e826",
   "metadata": {},
   "outputs": [
    {
     "name": "stdout",
     "output_type": "stream",
     "text": [
      "There once was a fellow\n",
      "Who came from the meadow\n",
      "And desired to settle\n",
      "In caves of yellow\n"
     ]
    }
   ],
   "source": [
    "print(\"\"\"There once was a fellow\n",
    "Who came from the meadow\n",
    "And desired to settle\n",
    "In caves of yellow\"\"\")"
   ]
  },
  {
   "cell_type": "markdown",
   "id": "a1dec0cb-153d-4b8e-a6c5-32a1347c7826",
   "metadata": {},
   "source": [
    "**Variables and Concatenation**\n",
    "\n",
    "When writing python programs, it is often useful to be able to give a “name” to a value in a program. As a motivating exaple, lets use this program, which prints out a short part of a made-up script:"
   ]
  },
  {
   "cell_type": "code",
   "execution_count": 1,
   "id": "47b4cfe5-6c73-4151-b043-3a0f1e048838",
   "metadata": {},
   "outputs": [
    {
     "name": "stdout",
     "output_type": "stream",
     "text": [
      "John: Hi Luke, long time since we talked last.\n",
      "Luke: Hi John! How have you been?\n",
      "John: I have been well. Do you wanna go get lunch?\n",
      "Luke: Yes!\n",
      "John: Great, we can meet at In-n-Out burger next week\n"
     ]
    }
   ],
   "source": [
    "print('John: Hi Luke, long time since we talked last.')\n",
    "print('Luke: Hi John! How have you been?')\n",
    "print('John: I have been well. Do you wanna go get lunch?')\n",
    "print('Luke: Yes!')\n",
    "print('John: Great, we can meet at In-n-Out burger next week')"
   ]
  },
  {
   "cell_type": "markdown",
   "id": "17fb9a32-e84a-4916-bbd2-2e99de895465",
   "metadata": {},
   "source": [
    "Imagine if this program were much longer, and John was mentioned 100 times! It would be quite a tedious process to change every John to James (unless we used a find / replace search). Instead, it might be useful to use a variable for the names of our two characters. We can also change the names of the characters dynamically without updating it everyowhere. We could write this instead:"
   ]
  },
  {
   "cell_type": "code",
   "execution_count": 3,
   "id": "8ec59185-c83f-4855-a1a4-5b7c76a73244",
   "metadata": {},
   "outputs": [
    {
     "name": "stdout",
     "output_type": "stream",
     "text": [
      "Piet: Hi Luke, long time since we talked last.\n",
      "Luke: Hi Piet! How have you been?\n",
      "Piet: I have been well. Do you wanna go get lunch?\n",
      "Luke: Yes!\n",
      "Piet: Great, we can meet at In-n-Out burger next week\n"
     ]
    }
   ],
   "source": [
    "character_1 = 'Piet'\n",
    "character_2 = 'Luke'\n",
    "print(character_1 + ': Hi ' + character_2 + ', long time since we talked last.')\n",
    "print(character_2 + ': Hi ' + character_1 + '! How have you been?')\n",
    "print(character_1 + ': I have been well. Do you wanna go get lunch?')\n",
    "print(character_2 + ': Yes!')\n",
    "print(character_1 + ': Great, we can meet at In-n-Out burger next week')"
   ]
  },
  {
   "cell_type": "markdown",
   "id": "1e1f4c14-9cab-4555-a98e-9b0c3e8e7fbb",
   "metadata": {},
   "source": [
    "Another thing to note about this program is the use of the + sign. In python, you can combine two strings together using this symbol. The official term for combining two strings in this manner is concatenation. "
   ]
  },
  {
   "cell_type": "code",
   "execution_count": 4,
   "id": "348e522e-2c38-4bbb-a3ec-2ec7cd99c641",
   "metadata": {},
   "outputs": [
    {
     "name": "stdout",
     "output_type": "stream",
     "text": [
      "bear cheetah\n",
      "bearcheetah\n"
     ]
    }
   ],
   "source": [
    "value_1 = 'bear'\n",
    "value_2 = 'cheetah'\n",
    "print(value_1, value_2)\n",
    "print(value_1 + value_2)"
   ]
  },
  {
   "cell_type": "markdown",
   "id": "a8a83a7b-a03e-471c-b21a-433f48918d9a",
   "metadata": {},
   "source": [
    "**Input Fuction**\n",
    "\n",
    "One of the simplest ways to get input from a user in Python is via the `input` function. Using this function, we can ask the user to give us strings that we can then use in our program. Calling the `input` function is similar to the print function. For example:"
   ]
  },
  {
   "cell_type": "code",
   "execution_count": 6,
   "id": "4ed322e7-1df4-4b32-b2c0-b843dff1bd00",
   "metadata": {},
   "outputs": [
    {
     "name": "stdout",
     "output_type": "stream",
     "text": [
      "Type an address:  Test Address\n"
     ]
    },
    {
     "data": {
      "text/plain": [
       "'Test Address'"
      ]
     },
     "execution_count": 6,
     "metadata": {},
     "output_type": "execute_result"
    }
   ],
   "source": [
    "input('Type an address: ')"
   ]
  },
  {
   "attachments": {
    "0172376b-e2e9-43ed-9123-21aefdb669e3.png": {
     "image/png": "[encoded data removed]"
    }
   },
   "cell_type": "markdown",
   "id": "4ca41c85-6623-4e5e-9aed-177c88092cdd",
   "metadata": {},
   "source": [
    "However, it is not very useful unless we actually do something with the value that is entered. We say that the input function returns the string that the user types in. Therefore, we need to put a variable = before the call to the function, in order to save the string. This variable will refer to whatever the user typed, and then it can be used! \n",
    "\n",
    "![image.png](attachment:0172376b-e2e9-43ed-9123-21aefdb669e3.png)"
   ]
  },
  {
   "cell_type": "code",
   "execution_count": 7,
   "id": "6fa7f803-f3d1-4864-84eb-94c6fb9acb8e",
   "metadata": {},
   "outputs": [
    {
     "name": "stdout",
     "output_type": "stream",
     "text": [
      "Type an address:  New Address\n"
     ]
    },
    {
     "name": "stdout",
     "output_type": "stream",
     "text": [
      "The address you typed is: New Address\n"
     ]
    }
   ],
   "source": [
    "address = input('Type an address: ')\n",
    "print('The address you typed is: ' + address)"
   ]
  },
  {
   "cell_type": "markdown",
   "id": "bc9ea2dd-3f2f-4b27-b4cc-ff670efd18c5",
   "metadata": {},
   "source": [
    "Using our previous example script, what if we wanted this script to not have fixed character names. Rather, we could have the user choose what the names of the two characters are, so it could be customizable depending on the user preference. We could change the first two lines so that the program requests inputs, rather than having fixed names:"
   ]
  },
  {
   "cell_type": "code",
   "execution_count": 8,
   "id": "1b437026-16fb-4ad1-828c-b2068a9d618a",
   "metadata": {},
   "outputs": [
    {
     "name": "stdout",
     "output_type": "stream",
     "text": [
      "Name for character 1:  Sarel\n",
      "Name for character 2:  Peter\n"
     ]
    },
    {
     "name": "stdout",
     "output_type": "stream",
     "text": [
      "Sarel: Hi Peter, long time since we talked last.\n",
      "Peter: Hi Sarel! How have you been?\n",
      "Sarel: I have been well. Do you wanna go get lunch?\n",
      "Peter: Yes!\n",
      "Sarel: Great, we can meet at In-n-Out burger next week\n"
     ]
    }
   ],
   "source": [
    "character_1 = input('Name for character 1: ')\n",
    "character_2 = input('Name for character 2: ')\n",
    "print(character_1 + ': Hi ' + character_2 + ', long time since we talked last.')\n",
    "print(character_2 + ': Hi ' + character_1 + '! How have you been?')\n",
    "print(character_1 + ': I have been well. Do you wanna go get lunch?')\n",
    "print(character_2 + ': Yes!')\n",
    "print(character_1 + ': Great, we can meet at In-n-Out burger next week')"
   ]
  },
  {
   "cell_type": "markdown",
   "id": "e6ff19af-ad77-477d-ae71-afcc1d616fc0",
   "metadata": {},
   "source": [
    "**Integers**\n",
    "\n",
    "An integer (sometimes shortened to just int) is a data type in Python that is used to represent whole numbers. An integer can be numbers such as 1, 0, 75, 100, and so on. In Python, integers cannot represent numbers with decimals or fractions. So for example, we could not represent the value 3.14 with an int."
   ]
  },
  {
   "cell_type": "code",
   "execution_count": 11,
   "id": "328343a6-542f-42aa-afff-29fc4a797ae2",
   "metadata": {},
   "outputs": [
    {
     "name": "stdout",
     "output_type": "stream",
     "text": [
      "His name is Pierre\n",
      "Pierre can be contacted at pierre@gmail.com\n"
     ]
    },
    {
     "ename": "TypeError",
     "evalue": "can only concatenate str (not \"int\") to str",
     "output_type": "error",
     "traceback": [
      "\u001b[0;31m---------------------------------------------------------------------------\u001b[0m",
      "\u001b[0;31mTypeError\u001b[0m                                 Traceback (most recent call last)",
      "Cell \u001b[0;32mIn[11], line 8\u001b[0m\n\u001b[1;32m      6\u001b[0m \u001b[38;5;28mprint\u001b[39m(\u001b[38;5;124m'\u001b[39m\u001b[38;5;124mHis name is \u001b[39m\u001b[38;5;124m'\u001b[39m \u001b[38;5;241m+\u001b[39m name)\n\u001b[1;32m      7\u001b[0m \u001b[38;5;28mprint\u001b[39m(name \u001b[38;5;241m+\u001b[39m \u001b[38;5;124m'\u001b[39m\u001b[38;5;124m can be contacted at \u001b[39m\u001b[38;5;124m'\u001b[39m \u001b[38;5;241m+\u001b[39m email)\n\u001b[0;32m----> 8\u001b[0m \u001b[38;5;28mprint\u001b[39m(\u001b[38;5;124;43m'\u001b[39;49m\u001b[38;5;124;43mHe is \u001b[39;49m\u001b[38;5;124;43m'\u001b[39;49m\u001b[43m \u001b[49m\u001b[38;5;241;43m+\u001b[39;49m\u001b[43m \u001b[49m\u001b[43mage\u001b[49m \u001b[38;5;241m+\u001b[39m \u001b[38;5;124m'\u001b[39m\u001b[38;5;124m years old and is \u001b[39m\u001b[38;5;124m'\u001b[39m \u001b[38;5;241m+\u001b[39m height \u001b[38;5;241m+\u001b[39m \u001b[38;5;124m'\u001b[39m\u001b[38;5;124m inches tall\u001b[39m\u001b[38;5;124m'\u001b[39m)\n",
      "\u001b[0;31mTypeError\u001b[0m: can only concatenate str (not \"int\") to str"
     ]
    }
   ],
   "source": [
    "name = 'Pierre'\n",
    "email = 'pierre@gmail.com'\n",
    "age = 50\n",
    "height = 72\n",
    "\n",
    "print('His name is ' + name)\n",
    "print(name + ' can be contacted at ' + email)\n",
    "print('He is ' + age + ' years old and is ' + height + ' inches tall')"
   ]
  },
  {
   "cell_type": "markdown",
   "id": "b00ae14d-59b1-4431-b906-3fe18f26f0fb",
   "metadata": {},
   "source": [
    "Notice that the program printed out two lines (His name is Pierre and Pierre can be contacted at pierre@gmail.com) but an error occurred when trying to print the third one. Why? Look closely at the error message. It indicates that it happened on line 7, and the message says: TypeError: must be str, not int. This indicates that something in our program needs to be a str (string) in order to work properly, but it was actually an int. The problem is that we tried to + a string ('He is ') with an integer (age) which is not supported in Python! If you want to print out an integer alongside a string, you need to convert the int to a str. You can do this with the str function."
   ]
  },
  {
   "cell_type": "code",
   "execution_count": 12,
   "id": "4b5806b6-d97f-4949-8d6b-48f5e563f5b3",
   "metadata": {},
   "outputs": [
    {
     "name": "stdout",
     "output_type": "stream",
     "text": [
      "His name is Pierre\n",
      "Pierre can be contacted at pierre@gmail.com\n",
      "He is 50 years old and is 72 inches tall\n"
     ]
    }
   ],
   "source": [
    "print('His name is ' + name)\n",
    "print(name + ' can be contacted at ' + email)\n",
    "print('He is ' +str(age) + ' years old and is ' + str(height) + ' inches tall')"
   ]
  },
  {
   "cell_type": "markdown",
   "id": "62a0623e",
   "metadata": {},
   "source": [
    "**String Multiplication**\n",
    "\n",
    "Another way that strings and integers can interact is via string multiplication. String multiplication gives the programmer the ability to repeat a string an arbitrary number of times. This capability has many uses, especially when we need to have a text output that correlates to some particular numeric value."
   ]
  },
  {
   "cell_type": "markdown",
   "id": "c1558d9d",
   "metadata": {},
   "source": [
    "As an example, we could write a simple program to allow a business owner to visualize the profit breakdown of a business. We can define the profit of a business as the revenue a business generates (the total amount of money the business earns) minus the costs the business incurs (the money that gets spent on equipment, bills, paying employees, etc). We could write a program that computes the dollar amount for this by simply doing the calculation and then printing out the resulting profit:"
   ]
  },
  {
   "cell_type": "code",
   "execution_count": 1,
   "id": "4296cbab-64d9-424f-8598-597a693bdc5f",
   "metadata": {},
   "outputs": [
    {
     "name": "stdout",
     "output_type": "stream",
     "text": [
      "Business revenue:  1000\n",
      "Business costs:  100\n"
     ]
    },
    {
     "ename": "TypeError",
     "evalue": "unsupported operand type(s) for -: 'str' and 'str'",
     "output_type": "error",
     "traceback": [
      "\u001b[0;31m---------------------------------------------------------------------------\u001b[0m",
      "\u001b[0;31mTypeError\u001b[0m                                 Traceback (most recent call last)",
      "Cell \u001b[0;32mIn[1], line 3\u001b[0m\n\u001b[1;32m      1\u001b[0m revenue \u001b[38;5;241m=\u001b[39m \u001b[38;5;28minput\u001b[39m(\u001b[38;5;124m'\u001b[39m\u001b[38;5;124mBusiness revenue: \u001b[39m\u001b[38;5;124m'\u001b[39m)\n\u001b[1;32m      2\u001b[0m cost \u001b[38;5;241m=\u001b[39m \u001b[38;5;28minput\u001b[39m(\u001b[38;5;124m'\u001b[39m\u001b[38;5;124mBusiness costs: \u001b[39m\u001b[38;5;124m'\u001b[39m)\n\u001b[0;32m----> 3\u001b[0m profit \u001b[38;5;241m=\u001b[39m \u001b[43mrevenue\u001b[49m\u001b[43m \u001b[49m\u001b[38;5;241;43m-\u001b[39;49m\u001b[43m \u001b[49m\u001b[43mcost\u001b[49m\n\u001b[1;32m      4\u001b[0m \u001b[38;5;28mprint\u001b[39m(\u001b[38;5;124m'\u001b[39m\u001b[38;5;124mThe business profit is: \u001b[39m\u001b[38;5;124m'\u001b[39m \u001b[38;5;241m+\u001b[39m \u001b[38;5;28mstr\u001b[39m(profit))\n",
      "\u001b[0;31mTypeError\u001b[0m: unsupported operand type(s) for -: 'str' and 'str'"
     ]
    }
   ],
   "source": [
    "revenue = input('Business revenue: ')\n",
    "cost = input('Business costs: ')\n",
    "profit = revenue - cost\n",
    "print('The business profit is: ' + str(profit))"
   ]
  },
  {
   "cell_type": "markdown",
   "id": "f8445cbe-d15f-4fbe-9ab5-646ef7858b4d",
   "metadata": {},
   "source": [
    "This indicates the error is on line 3, where I attempted to subtract cost from revenue to get the resulting profit. Why doesn’t this work?\n",
    "\n",
    "Recall that the input function will ask the user to type in an input, and it returns a value of type string. Therefore, the variable revenue was not storing the integer number 100, but rather the string/text value '100'. Also, the variable costs was not storing the integer number 75, but rather the string/text value '75'. If you want to be able to complete math calculations such as subtraction, you want the values to be integers, not strings. We can add the int() function to convert the inputs to integers:"
   ]
  },
  {
   "cell_type": "code",
   "execution_count": 2,
   "id": "559e630e-4653-4261-b513-7b4b6bc51e3e",
   "metadata": {},
   "outputs": [
    {
     "name": "stdout",
     "output_type": "stream",
     "text": [
      "Business revenue:  1000\n",
      "Business costs:  500\n"
     ]
    },
    {
     "name": "stdout",
     "output_type": "stream",
     "text": [
      "The business profit is: 500\n"
     ]
    }
   ],
   "source": [
    "revenue = int(input('Business revenue: '))\n",
    "cost = int(input('Business costs: '))\n",
    "profit = revenue - cost\n",
    "print('The business profit is: ' + str(profit))"
   ]
  },
  {
   "cell_type": "markdown",
   "id": "a7106a7d-3161-405b-871a-51306f9a4aa9",
   "metadata": {},
   "source": [
    "Now what if I wanted to add a feature where we can see a visual bar-chart of the difference between the profit compared to the costs. This is where string multiplication can come into play. In python, if you write code of the form, string_value * integer_value it will take the string_value and repeat it integer_value number of times. For example, this code:"
   ]
  },
  {
   "cell_type": "code",
   "execution_count": 3,
   "id": "017a8580-e77d-492e-bef3-8be030eef023",
   "metadata": {},
   "outputs": [
    {
     "name": "stdout",
     "output_type": "stream",
     "text": [
      "ZZZZZZZZZZZZZZZZZZZZ\n"
     ]
    }
   ],
   "source": [
    "x = 'Z' * 20\n",
    "print(x)"
   ]
  },
  {
   "cell_type": "markdown",
   "id": "b5a09d77-d204-4893-826c-e4562424d512",
   "metadata": {},
   "source": [
    "How can we leverage this to display a bar-chart? We could take the cost and profit variables, and use string multiplication to print bars proportional to their size:"
   ]
  },
  {
   "cell_type": "code",
   "execution_count": 5,
   "id": "1f2f6b88-2ce0-47e2-90ec-893b41db59ab",
   "metadata": {},
   "outputs": [
    {
     "name": "stdout",
     "output_type": "stream",
     "text": [
      "Business revenue:  20\n",
      "Business costs:  8\n"
     ]
    },
    {
     "name": "stdout",
     "output_type": "stream",
     "text": [
      "The business profit is: 12\n",
      "  cost: ########\n",
      "profit: ############\n"
     ]
    }
   ],
   "source": [
    "revenue = int(input('Business revenue: '))\n",
    "cost = int(input('Business costs: '))\n",
    "profit = revenue - cost\n",
    "print('The business profit is: ' + str(profit))\n",
    "cost_bar = '#' * cost\n",
    "profit_bar = '#' * profit\n",
    "print('  cost: ' + cost_bar)\n",
    "print('profit: ' + profit_bar)"
   ]
  },
  {
   "cell_type": "markdown",
   "id": "b789a40d-d5f9-49c6-b5e6-270b0c0ba376",
   "metadata": {},
   "source": [
    "One problem is that as we get larger values, we get bigger bars (perhaps, too big). We could add a little math in order to cause the two bar charts have a max number of hashtags between the two, say 25 hashtags. If we change the Lines 5 and 6 (the ones that define the cost_bar and profit_bar variables) needs to be updated to have a different calculation. After changing the program to produce bar charts that are scaled better, the program may look like this:"
   ]
  },
  {
   "cell_type": "code",
   "execution_count": 6,
   "id": "901ac0ad-92de-4238-94a0-d913960d48f7",
   "metadata": {},
   "outputs": [
    {
     "name": "stdout",
     "output_type": "stream",
     "text": [
      "Business revenue:  400\n",
      "Business costs:  150\n"
     ]
    },
    {
     "name": "stdout",
     "output_type": "stream",
     "text": [
      "The business profit is: 250\n",
      "  cost: #########\n",
      "profit: ###############\n"
     ]
    }
   ],
   "source": [
    "revenue = int(input('Business revenue: '))\n",
    "cost = int(input('Business costs: '))\n",
    "profit = revenue - cost\n",
    "print('The business profit is: ' + str(profit))\n",
    "cost_bar = '#' * int((cost / revenue) * 25)\n",
    "profit_bar = '#' * int((profit / revenue) * 25)\n",
    "print('  cost: ' + cost_bar)\n",
    "print('profit: ' + profit_bar)"
   ]
  },
  {
   "cell_type": "markdown",
   "id": "b45130ce-755c-4e89-b28c-777d42dfb9d5",
   "metadata": {},
   "source": [
    "**String indexing**\n",
    "\n",
    "We can use strings to store all kinds of information within our programs. Peoples’ names, street addresses, paragraphs of text, ID numbers, and more. Strings have many built-in features that allow us do do things such as extract sub-components, extract individual letters, capitalize words, etc.\n",
    "\n",
    "For this segment, we will focus on one specific feature that strings have, which is called String Indexing. When dealing with strings, we can refer to any letter / character within a string by its index. An index is just a number that specified what position a character is at within the string."
   ]
  },
  {
   "cell_type": "code",
   "execution_count": null,
   "id": "11f15f7c-24d2-4d2f-bbbf-d1b78a7f643c",
   "metadata": {},
   "outputs": [],
   "source": [
    "city = 'Jerusalem'"
   ]
  },
  {
   "attachments": {
    "8043c49c-b45d-42c7-9389-2cff51a7654f.png": {
     "image/png": "[encoded data removed]"
    }
   },
   "cell_type": "markdown",
   "id": "890c7af5-bfdf-4703-aa5e-4556e8a196d1",
   "metadata": {},
   "source": [
    "![image.png](attachment:8043c49c-b45d-42c7-9389-2cff51a7654f.png)"
   ]
  },
  {
   "cell_type": "markdown",
   "id": "40ec9294-8025-4b3c-b48b-38bafca8bdf6",
   "metadata": {},
   "source": [
    "We can say things like “The letter ‘J’ is at index 0” or “The letter ‘r’ is at index 2”. Notice that this is off-by-one from what you’d typically be used to, since we start the counting from 0. Counting from 0 rather than 1 is a common occurrence in computer programming."
   ]
  },
  {
   "cell_type": "markdown",
   "id": "f42cf682-000b-40d9-8183-fcf811b5a09a",
   "metadata": {},
   "source": [
    "So whats is the point of all of this? Well, we can use these indexes to “grab” individual characters from strings to inspect, analyze, or build new strings from them. To do this, we use indexing and the bracket symbols ( [] ) to specify which character we want. For example, the following code:"
   ]
  },
  {
   "cell_type": "code",
   "execution_count": 8,
   "id": "caa74827-29cc-4dfb-8907-71a721580fa4",
   "metadata": {},
   "outputs": [
    {
     "name": "stdout",
     "output_type": "stream",
     "text": [
      "s\n"
     ]
    }
   ],
   "source": [
    "city = 'Jerusalem'\n",
    "letter = city[4]\n",
    "print(letter)"
   ]
  },
  {
   "cell_type": "markdown",
   "id": "27acbaa3-def6-488a-aa75-dc787891f337",
   "metadata": {},
   "source": [
    "Will print out s because that’s the character at index 4. You can also build new strings by extracting characters from another string."
   ]
  },
  {
   "cell_type": "code",
   "execution_count": 9,
   "id": "3a278135-3c18-4f98-a4f4-8aa0ac7e929b",
   "metadata": {},
   "outputs": [
    {
     "name": "stdout",
     "output_type": "stream",
     "text": [
      "Jem\n"
     ]
    }
   ],
   "source": [
    "city = 'Jerusalem.'\n",
    "rock = city[0] + city[1] + city[8]\n",
    "print(rock)\n"
   ]
  },
  {
   "attachments": {
    "c250767a-64f0-4af5-adf4-43c6268e84e6.png": {
     "image/png": "[encoded data removed]"
    }
   },
   "cell_type": "markdown",
   "id": "1fb8f11e-e01d-41f9-b9b6-49d052cc3815",
   "metadata": {},
   "source": [
    "This would print out Jem because we extracted ‘J’, ‘e’, and ‘m’ from ‘Jerusalem’, concatenated them together into one string, and printed that string out. You can also use negative numbers as string indexes. Negative numbers provide a way to index relative to the end of the string, rather than the beginning. For the ‘Jerusalem’ string the negative indexes would be:\n",
    "\n",
    "![image.png](attachment:c250767a-64f0-4af5-adf4-43c6268e84e6.png)"
   ]
  },
  {
   "cell_type": "markdown",
   "id": "bc005a76-9b3e-4344-a4e8-f46430f53074",
   "metadata": {},
   "source": [
    "Notice how these “start” from -1 rather than -0, because -0 and 0 are really both just 0. To get ‘Jem’ using negative indexes instead we could do:"
   ]
  },
  {
   "cell_type": "code",
   "execution_count": 11,
   "id": "4fc1bcbc-8583-498f-9bf6-073851f6c19e",
   "metadata": {},
   "outputs": [
    {
     "name": "stdout",
     "output_type": "stream",
     "text": [
      "Jem\n"
     ]
    }
   ],
   "source": [
    "city = 'Jerusalem'\n",
    "rock = city[-9] + city[-8] + city[-1]\n",
    "print(rock)"
   ]
  },
  {
   "cell_type": "markdown",
   "id": "14df8171-cb27-4539-94c9-292459482af8",
   "metadata": {},
   "source": [
    "Say we have a program where we want to print out the last 2 letters of whatever the user writes as input, no matter how long. We can easily accomplish this with negative indexes:"
   ]
  },
  {
   "cell_type": "code",
   "execution_count": 12,
   "id": "2adb236e-4c3f-413f-8c4b-b48ba8a36400",
   "metadata": {},
   "outputs": [
    {
     "name": "stdout",
     "output_type": "stream",
     "text": [
      "Type something:  Hello the my friend\n"
     ]
    },
    {
     "name": "stdout",
     "output_type": "stream",
     "text": [
      "The last two characters of your input were: nd\n"
     ]
    }
   ],
   "source": [
    "text = input('Type something: ')\n",
    "print('The last two characters of your input were: ' + text[-2] + text[-1])"
   ]
  },
  {
   "cell_type": "markdown",
   "id": "6f98b636-5882-4d38-a021-5ce075b33666",
   "metadata": {},
   "source": [
    "This could also be done without negative indexes, but it would be slightly trickier and would require an additional feature. If we were using positive indexes, we would have to have a way to know what the length of a string is. This can be done in python using the len() function. To get the indexes of the second-last and last characters, we would need to use the indexes length-2 and length-1. In code, this would be:"
   ]
  },
  {
   "cell_type": "code",
   "execution_count": 13,
   "id": "64a031ec-c0ff-4dbf-8bff-29660a56f26d",
   "metadata": {},
   "outputs": [
    {
     "name": "stdout",
     "output_type": "stream",
     "text": [
      "Type something:  Hello my buddies\n"
     ]
    },
    {
     "name": "stdout",
     "output_type": "stream",
     "text": [
      "The last two characters of your input were: es\n"
     ]
    }
   ],
   "source": [
    "text = input('Type something: ')\n",
    "last = text[len(text) - 1]\n",
    "other = text[len(text) - 2]\n",
    "print('The last two characters of your input were: ' + other + last)"
   ]
  },
  {
   "cell_type": "code",
   "execution_count": null,
   "id": "bb577d9c-06ff-4186-a9a1-e6c1c1eff1ce",
   "metadata": {},
   "outputs": [],
   "source": []
  }
 ],
 "metadata": {
  "kernelspec": {
   "display_name": "Python 3 (ipykernel)",
   "language": "python",
   "name": "python3"
  },
  "language_info": {
   "codemirror_mode": {
    "name": "ipython",
    "version": 3
   },
   "file_extension": ".py",
   "mimetype": "text/x-python",
   "name": "python",
   "nbconvert_exporter": "python",
   "pygments_lexer": "ipython3",
   "version": "3.12.6"
  }
 },
 "nbformat": 4,
 "nbformat_minor": 5
}
