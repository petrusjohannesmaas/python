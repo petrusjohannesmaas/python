{
 "cells": [
  {
   "cell_type": "markdown",
   "id": "d1049214-9b43-47b1-9415-bc3ec77b04df",
   "metadata": {},
   "source": [
    "## PyFlo: Introduction\n",
    "\n",
    "#### The beginners guide to becoming a Python programmer"
   ]
  },
  {
   "cell_type": "markdown",
   "id": "6047e300-5f35-4f13-903a-f0dfa093248a",
   "metadata": {
    "jp-MarkdownHeadingCollapsed": true
   },
   "source": [
    "**What is Programming?**\n",
    "\n",
    "When we “program” a computer we are writing instructions that we want the computer to follow, before it begins the process of following those instructions. The word “program” can be traced back to the Greek words “pro” (before) and “graphein” (write).\n",
    "\n",
    "The process of a human writing computer code is analogous to one human giving instructions for another human to follow. A classic example of this comes to play in food-preparation recipes. \n",
    "\n",
    "Another thing to consider about computer programming is the language with which we tell a computer what to do. In a similar sense, there is an abundance of computer language varieties, each with their pros/cons and differences/similarities. Whereas the four most popular human languages in the world are English, Mandarin, Hindi, and Spanish, some of the most commonly-used computer languages in the world are Java, Python, C, and Javascript. For the purpose of this series of lessons, we will be sticking mainly to Python as the language-of-choice. So what is Python?"
   ]
  },
  {
   "cell_type": "markdown",
   "id": "e8c58072-e7da-41c6-80f0-a7de0cd49169",
   "metadata": {},
   "source": [
    "**What is Python?**\n",
    "\n",
    "Python is one of the most popular programming languages in the world. We can use the python language to give instructions to a computer to get it to complete tasks on our behalf.\n",
    "\n",
    "When we develop programs (or “code”) we are writing a sequence of precise instructions for the computer to follow. As an example, take a look at the short python program below. This program is used to determine if a US citizen needs to get a new passport or not. US passports are valid for 10 years after the time it was created."
   ]
  },
  {
   "cell_type": "code",
   "execution_count": 7,
   "id": "44488a5d-37ee-49c3-a310-5daa39337cca",
   "metadata": {},
   "outputs": [
    {
     "name": "stdin",
     "output_type": "stream",
     "text": [
      "What year did you get your passport?  2015\n"
     ]
    },
    {
     "name": "stdout",
     "output_type": "stream",
     "text": [
      "You may use your current passport\n"
     ]
    }
   ],
   "source": [
    "# import time\n",
    "\n",
    "current_year = int(time.strftime('%Y'))\n",
    "received_year = int(input('What year did you get your passport? '))\n",
    "if received_year + 10 < current_year:\n",
    "    print('You should go get a new passport')\n",
    "else:\n",
    "    print('You may use your current passport')"
   ]
  },
  {
   "attachments": {
    "3bef5319-22ed-422c-8d69-1637a2656522.png": {
     "image/png": "[encoded data removed]"
    }
   },
   "cell_type": "markdown",
   "id": "4da9e32b-0a67-4e59-b54a-0a9d3a9c90ab",
   "metadata": {},
   "source": [
    "**Input and Output**\n",
    "\n",
    "When a computer program is running, it sometimes (oftentimes) needs to get direction, or information from the person using the it. For example, say we are on a desktop computer and we want to open up a web browser, navigate to google.com, and search for mountain lions so that we can read about them for an article we need to write. The computer doesn’t just read our mind and know that that’s what we are trying to do (at least, not yet :). Instead, we need to give the computer some input to let it know what we want to do and how we want it to go about it.\n",
    "\n",
    "*Probably the three most common ways of giving a computer input are:*\n",
    "\n",
    "- click (with the mouse)\n",
    "- type (with the keyboard\n",
    "- touch (via a touchscreen)\n",
    "\n",
    "After determining how we can give a computer input, we can also think about the types of output it can respond with. The programs most people use on a regular basis don’t just produce plain-text, but this is the simplest kind of output.\n",
    "\n",
    "*We can thus also group out output into three main categories:*\n",
    "\n",
    "- graphical (displayed on a screen)\n",
    "- audio (through speakers / headphones)\n",
    "- textual (also shown on a screen)\n",
    "\n",
    "![image.png](attachment:3bef5319-22ed-422c-8d69-1637a2656522.png)"
   ]
  },
  {
   "cell_type": "markdown",
   "id": "dbdf3817-502d-46ea-8097-cb43b8cace24",
   "metadata": {},
   "source": [
    "**Printing**\n",
    "\n",
    "The first kind of output you will learn how to produce in python is text-based output. About the simplest possible program you can write in python is one that prints out some word(s) to standard output. "
   ]
  },
  {
   "cell_type": "code",
   "execution_count": 8,
   "id": "ac8a4793-50c6-42d0-a961-dcd37af2c706",
   "metadata": {},
   "outputs": [
    {
     "name": "stdout",
     "output_type": "stream",
     "text": [
      "Outputted text successfully\n"
     ]
    }
   ],
   "source": [
    "print('Outputted text successfully')"
   ]
  },
  {
   "cell_type": "markdown",
   "id": "6714125b-7a91-45a1-ae8a-885208f3bca7",
   "metadata": {},
   "source": [
    "Let’s study this simple program in a bit more depth. The first part of the line, `print`, represents the name of a function that is built-in to python that we are invoking. If you want a function to be invoked (to do its job) you have to put a pair of parentheses after it. This tells python to call this function. \n",
    "\n",
    "In python, text enclosed within quotes is referred to as a string. String can be specified with either single-quotes or double-quotes. You can actually insert your own newlines into a string wherever you want, by writing \\n."
   ]
  },
  {
   "cell_type": "code",
   "execution_count": 10,
   "id": "b04429d8-ebf3-4d82-9a4d-dd9da27c1e7f",
   "metadata": {},
   "outputs": [
    {
     "name": "stdout",
     "output_type": "stream",
     "text": [
      "the\n",
      "big\n",
      "black\n",
      "box\n"
     ]
    }
   ],
   "source": [
    "print(\"the\\nbig\\nblack\\nbox\")"
   ]
  },
  {
   "cell_type": "markdown",
   "id": "1c271099-4f7e-453a-9fa0-09eeac24e033",
   "metadata": {},
   "source": [
    "In this program, I tell the print function to put a space (' ') rather than a newline ('\\\\\\\\n') at the end instead. "
   ]
  },
  {
   "cell_type": "code",
   "execution_count": 11,
   "id": "867d3af3-83d6-4131-ac55-4a39b37d1b74",
   "metadata": {},
   "outputs": [
    {
     "name": "stdout",
     "output_type": "stream",
     "text": [
      "the big black box "
     ]
    }
   ],
   "source": [
    "print(\"the\", end=' ')\n",
    "print('big', end=' ')\n",
    "print(\"black\", end=' ')\n",
    "print('box', end=' ')"
   ]
  },
  {
   "cell_type": "markdown",
   "id": "27d1d049-6ce5-4dd4-9c2d-1c15f536d8a1",
   "metadata": {},
   "source": [
    "There’s a special kind of python strings referred to as a multi-line string. We can specify multi-line strings if we begin and end the string with three quotes in-a-row, rather than just one."
   ]
  },
  {
   "cell_type": "code",
   "execution_count": 13,
   "id": "5fba68ee-3dcc-4edc-92ca-66a241d6e826",
   "metadata": {},
   "outputs": [
    {
     "name": "stdout",
     "output_type": "stream",
     "text": [
      "There once was a fellow\n",
      "Who came from the meadow\n",
      "And desired to settle\n",
      "In caves of yellow\n"
     ]
    }
   ],
   "source": [
    "print(\"\"\"There once was a fellow\n",
    "Who came from the meadow\n",
    "And desired to settle\n",
    "In caves of yellow\"\"\")"
   ]
  },
  {
   "cell_type": "code",
   "execution_count": null,
   "id": "0e089447-655d-4ee7-94c1-e7d84abc436d",
   "metadata": {},
   "outputs": [],
   "source": []
  }
 ],
 "metadata": {
  "kernelspec": {
   "display_name": "Python 3 (ipykernel)",
   "language": "python",
   "name": "python3"
  },
  "language_info": {
   "codemirror_mode": {
    "name": "ipython",
    "version": 3
   },
   "file_extension": ".py",
   "mimetype": "text/x-python",
   "name": "python",
   "nbconvert_exporter": "python",
   "pygments_lexer": "ipython3",
   "version": "3.12.6"
  }
 },
 "nbformat": 4,
 "nbformat_minor": 5
}
