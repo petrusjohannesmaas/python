{
 "cells": [
  {
   "cell_type": "markdown",
   "id": "87c63b3c-0be9-47d9-9d47-31a3626d651b",
   "metadata": {},
   "source": [
    "## JSON Handling in python"
   ]
  },
  {
   "cell_type": "markdown",
   "id": "d2a4b8a1-1aef-4bd7-afd3-29161d1a2a32",
   "metadata": {},
   "source": [
    "Make sure you have the following import:"
   ]
  },
  {
   "cell_type": "code",
   "execution_count": 9,
   "id": "b752db7d-e335-4045-acbd-48021e8e5600",
   "metadata": {},
   "outputs": [],
   "source": [
    "import json"
   ]
  },
  {
   "cell_type": "markdown",
   "id": "9e2dead6-eb46-4250-9757-62eef36abc10",
   "metadata": {},
   "source": [
    "Create a `data` dictionary"
   ]
  },
  {
   "cell_type": "code",
   "execution_count": 10,
   "id": "54b2563b-bb90-48ee-9457-fff3a4bb22cb",
   "metadata": {},
   "outputs": [],
   "source": [
    "data = {\n",
    "    \"name\": \"John Doe\",\n",
    "    \"age\": \"21\",\n",
    "    \"city\": \"New York\"\n",
    "}"
   ]
  },
  {
   "cell_type": "markdown",
   "id": "a8ba62d3-6039-4d0d-b029-98c9bffdab60",
   "metadata": {},
   "source": [
    "Create an `inline_json` variable to hold the JSON.\n",
    "\n",
    "Pass the `data` dictionary as a parameter to the `json.dumps` function (from the json package). "
   ]
  },
  {
   "cell_type": "code",
   "execution_count": 16,
   "id": "ec9a572e-4e93-4c9f-b44d-ff6d2587a78d",
   "metadata": {},
   "outputs": [],
   "source": [
    "inline_json = json.dumps(data)"
   ]
  },
  {
   "cell_type": "code",
   "execution_count": 17,
   "id": "c81d4380-f5fe-4169-9b7c-b0bc5988346b",
   "metadata": {},
   "outputs": [
    {
     "name": "stdout",
     "output_type": "stream",
     "text": [
      "{\"name\": \"John Doe\", \"age\": \"21\", \"city\": \"New York\"}\n"
     ]
    }
   ],
   "source": [
    "print(inline_json)"
   ]
  },
  {
   "cell_type": "markdown",
   "id": "f854dec6-aa28-4191-9ac2-ab90dd6ef03b",
   "metadata": {},
   "source": [
    "If you want to format the output you can set the indentation as a second parameter to the `json.dumps` function."
   ]
  },
  {
   "cell_type": "code",
   "execution_count": 18,
   "id": "d26a10c6-0f32-489f-b4cf-5294924f4665",
   "metadata": {},
   "outputs": [],
   "source": [
    "formatted_json = json.dumps(data, indent=4)"
   ]
  },
  {
   "cell_type": "code",
   "execution_count": 19,
   "id": "f04bcd6c-1dab-4898-b9e6-8d6582a6a533",
   "metadata": {},
   "outputs": [
    {
     "name": "stdout",
     "output_type": "stream",
     "text": [
      "{\n",
      "    \"name\": \"John Doe\",\n",
      "    \"age\": \"21\",\n",
      "    \"city\": \"New York\"\n",
      "}\n"
     ]
    }
   ],
   "source": [
    "print(formatted_json)"
   ]
  },
  {
   "cell_type": "code",
   "execution_count": null,
   "id": "a9a9afbd-09b8-4b74-9f10-09cb3e02c86f",
   "metadata": {},
   "outputs": [],
   "source": []
  }
 ],
 "metadata": {
  "kernelspec": {
   "display_name": "Python 3 (ipykernel)",
   "language": "python",
   "name": "python3"
  },
  "language_info": {
   "codemirror_mode": {
    "name": "ipython",
    "version": 3
   },
   "file_extension": ".py",
   "mimetype": "text/x-python",
   "name": "python",
   "nbconvert_exporter": "python",
   "pygments_lexer": "ipython3",
   "version": "3.12.6"
  }
 },
 "nbformat": 4,
 "nbformat_minor": 5
}
