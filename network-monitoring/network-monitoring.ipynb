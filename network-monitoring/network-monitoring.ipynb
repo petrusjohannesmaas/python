{
 "cells": [
  {
   "cell_type": "markdown",
   "id": "163b6f0f-fdd2-4150-90a4-270ec9819731",
   "metadata": {},
   "source": [
    "#### Total Network Usage:\n",
    "\n",
    "- Link to full article: https://thepythoncode.com/article/make-a-network-usage-monitor-in-python"
   ]
  },
  {
   "cell_type": "markdown",
   "id": "f759ccdf-ffde-4e46-819e-e15a7a035b08",
   "metadata": {},
   "source": [
    "Starting with the simplest program; Let's import psutil and make a function that prints the bytes in a nice format:"
   ]
  },
  {
   "cell_type": "code",
   "execution_count": null,
   "id": "d01427c3-afaf-4c4a-81f4-833399f7ac1b",
   "metadata": {},
   "outputs": [],
   "source": [
    "import psutil\n",
    "import time\n",
    "\n",
    "UPDATE_DELAY = 1 # in seconds\n",
    "\n",
    "def get_size(bytes):\n",
    "    \"\"\"\n",
    "    Returns size of bytes in a nice format\n",
    "    \"\"\"\n",
    "    for unit in ['', 'K', 'M', 'G', 'T', 'P']:\n",
    "        if bytes < 1024:\n",
    "            return f\"{bytes:.2f}{unit}B\"\n",
    "        bytes /= 1024"
   ]
  },
  {
   "cell_type": "markdown",
   "id": "0f89b3c7-c9b2-4d63-aa38-be0f665ec5f1",
   "metadata": {},
   "source": [
    "Next, we will use `psutil.net_io_counters()` function that returns the network input and output statistics:"
   ]
  },
  {
   "cell_type": "code",
   "execution_count": null,
   "id": "2628a774-8c74-4da0-a11e-c6a52459dabb",
   "metadata": {},
   "outputs": [],
   "source": [
    "# get the network I/O stats from psutil\n",
    "io = psutil.net_io_counters()\n",
    "# extract the total bytes sent and received\n",
    "bytes_sent, bytes_recv = io.bytes_sent, io.bytes_recv"
   ]
  },
  {
   "cell_type": "markdown",
   "id": "cff9392b-6800-4a37-bff8-45c316b37224",
   "metadata": {},
   "source": [
    "Now let's enter the loop that gets the same stats but after a delay so we can calculate the download and upload speed:"
   ]
  },
  {
   "cell_type": "code",
   "execution_count": null,
   "id": "f4e4cc66-4c2f-4f5d-bd5c-02e048360c49",
   "metadata": {
    "scrolled": true
   },
   "outputs": [],
   "source": [
    "while True:\n",
    "    # sleep for `UPDATE_DELAY` seconds\n",
    "    time.sleep(UPDATE_DELAY)\n",
    "    # get the stats again\n",
    "    io_2 = psutil.net_io_counters()\n",
    "    # new - old stats gets us the speed\n",
    "    us, ds = io_2.bytes_sent - bytes_sent, io_2.bytes_recv - bytes_recv\n",
    "    # print the total download/upload along with current speeds\n",
    "    print(f\"Upload: {get_size(io_2.bytes_sent)}   \"\n",
    "          f\", Download: {get_size(io_2.bytes_recv)}   \"\n",
    "          f\", Upload Speed: {get_size(us / UPDATE_DELAY)}/s   \"\n",
    "          f\", Download Speed: {get_size(ds / UPDATE_DELAY)}/s      \", end=\"\\r\")\n",
    "    # update the bytes_sent and bytes_recv for next iteration\n",
    "    bytes_sent, bytes_recv = io_2.bytes_sent, io_2.bytes_recv"
   ]
  },
  {
   "cell_type": "markdown",
   "id": "18e886af-304c-4008-b610-21b49301d0f4",
   "metadata": {},
   "source": [
    "We simply subtract the old network stats from the new stats to get the speed, we will also include the total downloaded and uploaded stats. Since we want the printing to be updated in one line and not printed in several lines, we pass the return character \"\\r\" to the end parameter in the print() function to return to the beginning of the same line after printing."
   ]
  },
  {
   "cell_type": "markdown",
   "id": "1a07bf8d-dda2-4807-a758-0fe00a9f8a21",
   "metadata": {},
   "source": [
    "#### Network Usage per Network Interface\n",
    "\n",
    "In this section, we use the same method as before, but we set pernic to True:"
   ]
  },
  {
   "cell_type": "code",
   "execution_count": null,
   "id": "73c39654-5f50-48d1-9ca9-b36223fe3679",
   "metadata": {},
   "outputs": [],
   "source": [
    "import psutil\n",
    "import time\n",
    "import os\n",
    "import pandas as pd\n",
    "\n",
    "UPDATE_DELAY = 1 # in seconds\n",
    "\n",
    "def get_size(bytes):\n",
    "    \"\"\"\n",
    "    Returns size of bytes in a nice format\n",
    "    \"\"\"\n",
    "    for unit in ['', 'K', 'M', 'G', 'T', 'P']:\n",
    "        if bytes < 1024:\n",
    "            return f\"{bytes:.2f}{unit}B\"\n",
    "        bytes /= 1024\n",
    "\n",
    "# get the network I/O stats from psutil on each network interface\n",
    "# by setting `pernic` to `True`\n",
    "io = psutil.net_io_counters(pernic=True)"
   ]
  },
  {
   "cell_type": "markdown",
   "id": "796441a8-847c-496b-80bc-84d60d2249bb",
   "metadata": {},
   "source": [
    "Let's now enter the while loop:"
   ]
  },
  {
   "cell_type": "code",
   "execution_count": null,
   "id": "d323ed56-3ab6-437b-a07c-58b970a3d759",
   "metadata": {},
   "outputs": [],
   "source": [
    "while True:\n",
    "    # sleep for `UPDATE_DELAY` seconds\n",
    "    time.sleep(UPDATE_DELAY)\n",
    "    # get the network I/O stats again per interface \n",
    "    io_2 = psutil.net_io_counters(pernic=True)\n",
    "    # initialize the data to gather (a list of dicts)\n",
    "    data = []\n",
    "    for iface, iface_io in io.items():\n",
    "        # new - old stats gets us the speed\n",
    "        upload_speed, download_speed = io_2[iface].bytes_sent - iface_io.bytes_sent, io_2[iface].bytes_recv - iface_io.bytes_recv\n",
    "        data.append({\n",
    "            \"iface\": iface, \"Download\": get_size(io_2[iface].bytes_recv),\n",
    "            \"Upload\": get_size(io_2[iface].bytes_sent),\n",
    "            \"Upload Speed\": f\"{get_size(upload_speed / UPDATE_DELAY)}/s\",\n",
    "            \"Download Speed\": f\"{get_size(download_speed / UPDATE_DELAY)}/s\",\n",
    "        })\n",
    "    # update the I/O stats for the next iteration\n",
    "    io = io_2\n",
    "    # construct a Pandas DataFrame to print stats in a cool tabular style\n",
    "    df = pd.DataFrame(data)\n",
    "    # sort values per column, feel free to change the column\n",
    "    df.sort_values(\"Download\", inplace=True, ascending=False)\n",
    "    # clear the screen based on your OS\n",
    "    os.system(\"cls\") if \"nt\" in os.name else os.system(\"clear\")\n",
    "    # print the stats\n",
    "    print(df.to_string())"
   ]
  },
  {
   "cell_type": "markdown",
   "id": "ead992e5-e665-4275-ae65-0fa1224d3dbf",
   "metadata": {},
   "source": [
    "This time, `the psutil.net_io_counters()` returns a dictionary of each interface and its corresponding network stats. Inside the `while` loop, we iterate over this dictionary and do the same calculation as before.\n",
    "\n",
    "Since we have multiple lines, we're using pandas to print the stats in a tabular manner and use the `cls` command on Windows or `clear` on Linux or macOS to clear the screen before printing the updated results.\n",
    "\n",
    "To print the whole `pandas` dataframe, we simply call the `to_string()` method inside the `print()` function and it will do the job."
   ]
  }
 ],
 "metadata": {
  "kernelspec": {
   "display_name": "Python 3 (ipykernel)",
   "language": "python",
   "name": "python3"
  },
  "language_info": {
   "codemirror_mode": {
    "name": "ipython",
    "version": 3
   },
   "file_extension": ".py",
   "mimetype": "text/x-python",
   "name": "python",
   "nbconvert_exporter": "python",
   "pygments_lexer": "ipython3",
   "version": "3.12.6"
  }
 },
 "nbformat": 4,
 "nbformat_minor": 5
}
