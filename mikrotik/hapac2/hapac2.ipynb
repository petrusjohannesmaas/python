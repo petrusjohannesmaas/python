{
 "cells": [
  {
   "cell_type": "markdown",
   "metadata": {},
   "source": [
    "### Mikrotik hapac2 configuration\n",
    "\n",
    "**Here's the official documentation I built this script from:** https://help.mikrotik.com/docs/display/ROS/First+Time+Configuration\n",
    "\n",
    "##### **Real world scenario**\n",
    "- There is an office ethernet cable I am using as WAN\n",
    "- Mikrotik *hAPac2* as router\n",
    "- Desktop office computer with VScode\n",
    "- Laptop that configured as a *Jupyter Lab* server.\n",
    "- Both computers need access to the internet.\n",
    "- Include a wifi connection for laptop when in another office\n",
    "- Set up a LAN for tunnel in VScode"
   ]
  },
  {
   "cell_type": "markdown",
   "metadata": {},
   "source": [
    "##### **Testing communication:**\n",
    "- Default SSH details:\n",
    "\n",
    "    - IP: '192.168.88.1'\n",
    "    - User: 'admin'\n",
    "    - Password: ''\n",
    "\n",
    "**On successful login you'll see this screen:**"
   ]
  },
  {
   "cell_type": "code",
   "execution_count": null,
   "metadata": {},
   "outputs": [],
   "source": [
    "  MMM      MMM       KKK                          TTTTTTTTTTT      KKK\n",
    "  MMMM    MMMM       KKK                          TTTTTTTTTTT      KKK\n",
    "  MMM MMMM MMM  III  KKK  KKK  RRRRRR     OOOOOO      TTT     III  KKK  KKK\n",
    "  MMM  MM  MMM  III  KKKKK     RRR  RRR  OOO  OOO     TTT     III  KKKKK\n",
    "  MMM      MMM  III  KKK KKK   RRRRRR    OOO  OOO     TTT     III  KKK KKK\n",
    "  MMM      MMM  III  KKK  KKK  RRR  RRR   OOOOOO      TTT     III  KKK  KKK\n",
    "\n",
    "  MikroTik RouterOS 7.14.1 (c) 1999-2024       https://www.mikrotik.com/"
   ]
  },
  {
   "cell_type": "markdown",
   "metadata": {},
   "source": [
    "##### **Tools for running the Script**\n",
    "\n",
    "1) To connect to the router with `SSH`, execute *RouterOS* commands and close the `SSH` connection, I need a package called *paramiko*. \n",
    "\n",
    "2) For human readable/structured responses, I need the *jsonify* package.\n",
    "\n",
    "3) A *flask* framework API is used to send `POST` requests to `HTTP` endpoints. (These requests trigger functions that contain arrays of *RouterOS* commands.)\n",
    "\n",
    "4) Use *Thunder Client* VScode extention or *Curl* to send `HTTP` requests. "
   ]
  },
  {
   "cell_type": "markdown",
   "metadata": {},
   "source": [
    "##### **Script overview:**\n",
    "\n",
    "Here's a list of all the functions in our scripts:\n",
    "\n",
    "- **hapac2_info.py:**\n",
    "\n",
    "    1. `/get-ip-info`\n",
    "    2. `/get-interface-status`\n",
    "    3. `/get-firewall-rules`\n",
    "    4. `/get-nat-rules`\n",
    "    5. `/get-routing-table`\n",
    "    6. `/get-system-info`\n",
    "\n",
    "\n",
    "- **hapac2_config:** *(Based on official Documentation)*\n",
    "\n",
    "    7. `/setup-bridge`: Sets up the bridge, IP, and DHCP server.\n",
    "    8. `/setup-wan`: Configures WAN (DHCP client and PPPoE).\n",
    "    9. `/ping-test`: Runs a connectivity test by pinging `8.8.8.8`.\n",
    "    10. `/setup-user`: Adds a user and removes the `admin`.\n",
    "    11. `/disable-services`: Disables unnecessary services (proxy, socks, etc.).\n",
    "    12. `/setup-firewall`: Sets up NAT, port forwarding, and firewall rules."
   ]
  }
 ],
 "metadata": {
  "kernelspec": {
   "display_name": "Python 3 (ipykernel)",
   "language": "python",
   "name": "python3"
  },
  "language_info": {
   "codemirror_mode": {
    "name": "ipython",
    "version": 3
   },
   "file_extension": ".py",
   "mimetype": "text/x-python",
   "name": "python",
   "nbconvert_exporter": "python",
   "pygments_lexer": "ipython3",
   "version": "3.12.6"
  }
 },
 "nbformat": 4,
 "nbformat_minor": 4
}
