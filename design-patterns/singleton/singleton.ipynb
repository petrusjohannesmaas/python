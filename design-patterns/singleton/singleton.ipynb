{
 "cells": [
  {
   "cell_type": "markdown",
   "metadata": {},
   "source": [
    "## What is the Singleton Pattern?\n",
    "\n",
    "The singleton pattern is a design pattern that ensures a class has only one instance and provides a global point of access to that instance. This is useful when exactly one object is needed to coordinate actions across the system.\n",
    "How it Works in Your Code.\n",
    "\n",
    "In simple terms, the singleton pattern in this code makes sure that there's only one instance of the Database class, so you always work with the same database connection, making your application more efficient and easier to manage."
   ]
  },
  {
   "cell_type": "markdown",
   "metadata": {},
   "source": [
    "1. Class Definition:\n",
    "\n",
    "    You have a class named Database. This class is responsible for managing the connection to your SQLite database."
   ]
  },
  {
   "cell_type": "markdown",
   "metadata": {},
   "source": [
    "2. Private Instance Variable:\n",
    "\n",
    "    This line creates a variable _instance that will hold the single instance of the Database class. It starts off as None because no instance has been created yet."
   ]
  },
  {
   "cell_type": "code",
   "execution_count": null,
   "metadata": {},
   "outputs": [
    {
     "ename": "",
     "evalue": "",
     "output_type": "error",
     "traceback": [
      "\u001b[1;31mRunning cells with 'Python 3.12.6' requires the ipykernel package.\n",
      "\u001b[1;31mRun the following command to install 'ipykernel' into the Python environment. \n",
      "\u001b[1;31mCommand: '/home/linuxbrew/.linuxbrew/bin/python3 -m pip install ipykernel -U --user --force-reinstall'"
     ]
    }
   ],
   "source": [
    "_instance = None"
   ]
  },
  {
   "cell_type": "markdown",
   "metadata": {},
   "source": [
    "3. Thread Lock:\n",
    "    This line creates a lock `(_lock)` to make sure that multiple threads don’t create multiple instances of the `Database` at the same time. This is important for thread safety."
   ]
  },
  {
   "cell_type": "code",
   "execution_count": null,
   "metadata": {},
   "outputs": [],
   "source": [
    "_lock = threading.Lock()"
   ]
  },
  {
   "cell_type": "markdown",
   "metadata": {},
   "source": [
    "4. Creating the instance:\n",
    "\n",
    "- `__new__` Method: This special method is called when you create a new instance of a class. It allows you to control the instance creation.\n",
    "- Inside `__new__`, the code checks if `_instance` is `None`. If it is, it means no instance exists yet.\n",
    "- It then acquires the lock (to ensure that no other thread can create an instance while one thread is doing it).\n",
    "- If `_instance` is still `None` after acquiring the lock, it creates a new instance of the `Database` class and connects to the SQLite database.\n",
    "- Finally, it returns the instance stored in `_instance`\n"
   ]
  },
  {
   "cell_type": "markdown",
   "metadata": {},
   "source": [
    "5. Getting the connection:\n",
    "\n",
    "- This method returns the existing database connection. It allows other parts of your code (like your API routes) to use the same database connection."
   ]
  },
  {
   "cell_type": "code",
   "execution_count": null,
   "metadata": {},
   "outputs": [],
   "source": [
    "def get_connection(self):\n",
    "    return self.connection"
   ]
  },
  {
   "cell_type": "markdown",
   "metadata": {},
   "source": [
    "6. Using the Singleton Instance\n",
    "\n",
    "- Here, you create the singleton instance. Every time you reference db_instance, you get the same instance of the Database class, ensuring you are always using the same database connection throughout your application."
   ]
  },
  {
   "cell_type": "code",
   "execution_count": null,
   "metadata": {},
   "outputs": [],
   "source": [
    "db_instance = Database()"
   ]
  },
  {
   "cell_type": "markdown",
   "metadata": {},
   "source": [
    "### Benefits of the Singleton Pattern in The Code\n",
    "\n",
    "- Single Database Connection: It ensures that your application only has one connection to the SQLite database, which is efficient and prevents connection overload.\n",
    "- Global Access: Any part of your application can access the same db_instance without needing to create a new one.\n",
    "- Thread Safety: It protects against multiple threads trying to create an instance simultaneously, which can lead to errors or multiple database connections."
   ]
  }
 ],
 "metadata": {
  "kernelspec": {
   "display_name": "Python 3",
   "language": "python",
   "name": "python3"
  },
  "language_info": {
   "name": "python",
   "version": "3.12.6"
  }
 },
 "nbformat": 4,
 "nbformat_minor": 2
}
