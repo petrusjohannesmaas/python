{
 "cells": [
  {
   "cell_type": "markdown",
   "id": "a7df5c9e-dba0-4666-ac4e-2d768c49812c",
   "metadata": {},
   "source": [
    "### Authentication\n",
    "**Question:** Who is the entity? verify who they are.\n",
    "\n",
    "**Purpose:** To establish a trusted identity by challenging entities to prove their claimed identity\n",
    "\n",
    "**Examples:**\n",
    "- Username & password\n",
    "- Multi-factor authentication (MFA)\n",
    "- Biometrics"
   ]
  },
  {
   "cell_type": "markdown",
   "id": "d26292b0-1004-4ac7-bc65-5e2d8ff225c2",
   "metadata": {},
   "source": [
    "---"
   ]
  },
  {
   "cell_type": "markdown",
   "id": "bec47cac-16da-4782-8f17-6595bca9c72d",
   "metadata": {},
   "source": [
    "### Authorization\n",
    "**Question:** What is the verified entity allowed to do?\n",
    "\n",
    "**Purpose:** Prevents unauthorized access by specifying and monitoring access rights to resources continuously\n",
    "\n",
    "**Example:**\n",
    "- Role based access control (RBAC)\n",
    "- Attribute based access control (ABAC)\n",
    "- Access control lists (ACL)\n",
    "- Relationship based access control (ReBAC)"
   ]
  },
  {
   "cell_type": "markdown",
   "id": "cf025e32-99b4-4411-90f2-9b1bf374e0c3",
   "metadata": {},
   "source": [
    "---"
   ]
  },
  {
   "cell_type": "markdown",
   "id": "bc1a92f4-0c1a-463f-9bc9-8c1610a2bcd6",
   "metadata": {},
   "source": [
    "### Authentication module:"
   ]
  },
  {
   "cell_type": "code",
   "execution_count": 27,
   "id": "beb5649d-dfe0-42b5-b286-d1774f9b678f",
   "metadata": {},
   "outputs": [
    {
     "name": "stdin",
     "output_type": "stream",
     "text": [
      "Enter your username:  piet\n",
      "Enter your password:  testing123\n"
     ]
    }
   ],
   "source": [
    "username = input(\"Enter your username: \")\n",
    "password = input(\"Enter your password: \")"
   ]
  },
  {
   "cell_type": "code",
   "execution_count": 28,
   "id": "5478ba82-f86f-4fd7-8fa1-d096cb4209f1",
   "metadata": {},
   "outputs": [],
   "source": [
    "def identification(username, password):\n",
    "    return {\n",
    "            'username': username, \n",
    "            'password': password\n",
    "    }    "
   ]
  },
  {
   "cell_type": "code",
   "execution_count": 29,
   "id": "bd8325a9-b4d6-4770-84da-52bc975af04c",
   "metadata": {},
   "outputs": [],
   "source": [
    "entity = identification(username, password)"
   ]
  },
  {
   "cell_type": "code",
   "execution_count": 30,
   "id": "79d08ef1-38c4-4bd0-9263-f11641cfcc4e",
   "metadata": {},
   "outputs": [
    {
     "name": "stdout",
     "output_type": "stream",
     "text": [
      "{'username': 'piet', 'password': 'testing123'}\n"
     ]
    }
   ],
   "source": [
    "print(entity)"
   ]
  },
  {
   "cell_type": "code",
   "execution_count": 31,
   "id": "db0a58fe-0555-4757-bf75-ea23a7ace986",
   "metadata": {},
   "outputs": [],
   "source": [
    "database = [\n",
    "    { 'username': 'piet', 'password': 'testing123' },\n",
    "    { 'username': 'mercia', 'password': 'demo456' },\n",
    "    { 'username': 'bob', 'password': 'mocky0192' },\n",
    "]"
   ]
  },
  {
   "cell_type": "code",
   "execution_count": 32,
   "id": "3e2d6a4c-1b67-4e6c-a74d-6ef0ea0c0b6b",
   "metadata": {},
   "outputs": [
    {
     "name": "stdout",
     "output_type": "stream",
     "text": [
      "[{'username': 'piet', 'password': 'testing123'}, {'username': 'mercia', 'password': 'demo456'}, {'username': 'bob', 'password': 'mocky0192'}]\n"
     ]
    }
   ],
   "source": [
    "list_data = print(database)"
   ]
  },
  {
   "cell_type": "code",
   "execution_count": 33,
   "id": "51fe21dd-4a25-4f2e-ae9e-40f5caae4609",
   "metadata": {},
   "outputs": [],
   "source": [
    "def check_credentials(username, password):\n",
    "    for user in database:\n",
    "        if user['username'] == username and user['password'] == password:\n",
    "            return True\n",
    "    return False"
   ]
  },
  {
   "cell_type": "code",
   "execution_count": 35,
   "id": "a27a748d-b108-4739-9d45-f1c9d347b7b2",
   "metadata": {},
   "outputs": [
    {
     "name": "stdout",
     "output_type": "stream",
     "text": [
      "Access granted. Here is the data:\n",
      "{'username': 'piet', 'password': 'testing123'}\n",
      "{'username': 'mercia', 'password': 'demo456'}\n",
      "{'username': 'bob', 'password': 'mocky0192'}\n"
     ]
    }
   ],
   "source": [
    "if check_credentials(username, password):\n",
    "    print(\"Access granted. Here is the data:\")\n",
    "    for user in database:\n",
    "        print(user)\n",
    "else:\n",
    "    print(\"Access denied. Invalid username or password.\")"
   ]
  },
  {
   "cell_type": "code",
   "execution_count": null,
   "id": "859836a8-7a66-433f-a30c-688c0651e126",
   "metadata": {},
   "outputs": [],
   "source": []
  }
 ],
 "metadata": {
  "kernelspec": {
   "display_name": "Python 3 (ipykernel)",
   "language": "python",
   "name": "python3"
  },
  "language_info": {
   "codemirror_mode": {
    "name": "ipython",
    "version": 3
   },
   "file_extension": ".py",
   "mimetype": "text/x-python",
   "name": "python",
   "nbconvert_exporter": "python",
   "pygments_lexer": "ipython3",
   "version": "3.12.6"
  }
 },
 "nbformat": 4,
 "nbformat_minor": 5
}
