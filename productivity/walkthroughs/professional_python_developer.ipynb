{
 "cells": [
  {
   "cell_type": "markdown",
   "id": "50791e62-07d2-43d6-bc13-30a832e37870",
   "metadata": {},
   "source": [
    "# Professional Python Developer\n",
    "\n",
    "- This is a walkthrough for becoming a professional Python developer.\n",
    "- For this roadmap I've adapted a Youtube video (very loosely) [Youtube video](https://www.youtube.com/watch?v=3QP43F4gVIE)\n",
    "- This article is an attempt to gamify this process by incorporating challenges of various difficulty in the form of quests to solidify the learning on the path to becoming a professional programmer\n",
    "- The \n",
    "- Motto: [Computers are lekker]"
   ]
  },
  {
   "cell_type": "markdown",
   "id": "91262002",
   "metadata": {},
   "source": [
    "---"
   ]
  },
  {
   "cell_type": "markdown",
   "id": "d1cbfec5",
   "metadata": {},
   "source": [
    "## Quests:\n",
    "\n",
    "> The quests are a way to track your progress and reflect on your experiences. They are also a way to set goals and track your progress towards achieving them.\n",
    "Each quest is a specific task that you need to complete to advance your character. You can complete quests in any order, but it's important to complete them in order to progress towards your goals."
   ]
  },
  {
   "cell_type": "markdown",
   "id": "8fe8d8a2-6c14-4843-b5bb-4b847dc560a6",
   "metadata": {},
   "source": [
    "### Path of the Nerd\n",
    "\n",
    "* **Common thug** (mini-boss) [Introduction to Python on Visual Studio Code](https://vscode.dev/edu?courseId=intro-to-python)\n",
    "* **Gang leader** (boss-fight) [Databases and SQL for Data Science with Python](https://www.coursera.org/learn/sql-data-science)"
   ]
  },
  {
   "cell_type": "markdown",
   "id": "b26dc3a9",
   "metadata": {},
   "source": [
    "**Quest items and skills:**\n",
    "\n",
    "```json\n",
    "{\n",
    "  \"Development Environment\": {\n",
    "    \"Manual\": \"Windows Subsystem for Linux (WSL) Debian Development Server\",\n",
    "    \"Manual\": \"Jupiter Notebooks + SSH Remote Access in VScode\"\n",
    "  },\n",
    "  \"Programming Language\": {\n",
    "    \"Manual\": \"Python\",\n",
    "    \"Manual\": \"JSON querying with JMESpath\"\n",
    "  },\n",
    "  \"Testing\": {\n",
    "    \"Manual\": \"Pylint Iterative Testing\",\n",
    "    \"Manual\": \"Debugging\"\n",
    "  },\n",
    "  \"Database\": {\n",
    "    \"Manual\": \"Relational Databases\",\n",
    "    \"Manual\": \"Document Oriented Databases\"\n",
    "  }\n",
    "}\n",
    "```\n",
    "\n",
    "**Completed manuals:**\n",
    "* ✅ Programming Language: [**Python**](../quest-items/python.ipynb)\n",
    "* ✅ Development Environment: [**Windows Subsystem for Linux (WSL) Debian Development Server**](./development_environment.html)"
   ]
  },
  {
   "cell_type": "markdown",
   "id": "17687ac9",
   "metadata": {},
   "source": [
    "---"
   ]
  },
  {
   "cell_type": "markdown",
   "id": "52f8da30",
   "metadata": {},
   "source": [
    "### Path of the Scholar\n",
    "\n",
    "* **2-Headed Dog** (mini-boss) [React Basics](https://www.coursera.org/learn/react-basics), [Advanced React](https://www.coursera.org/learn/advanced-react)\n",
    "* **Gang leader** (boss-fight) [PCEP™ – Certified Entry-Level Python Programmer](https://pythoninstitute.org/pcep)"
   ]
  },
  {
   "cell_type": "markdown",
   "id": "9598d8c2",
   "metadata": {},
   "source": [
    "**Quest items and skills:** \n",
    "\n",
    "```json\n",
    "{\n",
    "  \"Containerization\": {\n",
    "        \"Manual\": \"Container stack with Rocky Linux + Cockpit\"\n",
    "  },\n",
    "  \"Source and version control\": {\n",
    "    \"Manual\": \"Source code management with Git and Github\"\n",
    "  },\n",
    "  \"Monitoring\": {\n",
    "        \"Manual\": \"Prometheus for system monitoring\"\n",
    "  },\n",
    "  \"Front End Framework\": {\n",
    "        \"Manual\": \"React for building user interfaces\"\n",
    "  }\n",
    "}\n",
    "```\n",
    "**Completed manuals:**\n",
    "- None"
   ]
  },
  {
   "cell_type": "markdown",
   "id": "a1c58361",
   "metadata": {},
   "source": [
    "---"
   ]
  },
  {
   "cell_type": "markdown",
   "id": "28000dc2",
   "metadata": {},
   "source": [
    "### Path of the Associate (*hard*)\n",
    "**Boss Quest:** PCAP-30 Certification\n",
    "\n",
    "```json\n",
    "{\n",
    "  \"Protocols\": {\n",
    "    \"Manual\": \"gRPC for web communication\"\n",
    "  },\n",
    "  \"Hosting\": {\n",
    "    \"Manual\": \"AWS EC2 for virtual servers\"\n",
    "  },\n",
    "  \"CDN\": {\n",
    "    \"Manual\": \"Cloudflare for content delivery network\"\n",
    "  },\n",
    "  \"Distributed Caching\": {\n",
    "    \"Manual\": \"Redis for in-memory data storage\"\n",
    "  },\n",
    "}\n",
    "```\n",
    "**Completed manuals:**\n",
    "- None"
   ]
  },
  {
   "cell_type": "markdown",
   "id": "485286df",
   "metadata": {},
   "source": [
    "---"
   ]
  },
  {
   "cell_type": "markdown",
   "id": "e531cba1",
   "metadata": {},
   "source": [
    "### Path of the Programmer (*advanced*)\n",
    "**Final Quest:** PCPP-32-1\n",
    "```json\n",
    "{\n",
    "  \"CI/CD\": {\n",
    "    \"Manual\": \"Jenkins for continuous integration and delivery\"\n",
    "  },\n",
    "  \"Orchestration\": {\n",
    "    \"Manual\": \"Kubernetes for container orchestration\"\n",
    "  },\n",
    "  \"Blockchain\": {\n",
    "    \"Manual\": \"Vyper for writing Pythonic smart contracts\"\n",
    "  },\n",
    "  \"Artificial Intelligence\": {\n",
    "    \"Manual\": \"Python machine learning\"\n",
    "  }\n",
    "}\n",
    "```"
   ]
  },
  {
   "cell_type": "markdown",
   "id": "9e592df1-ccb5-4e94-8e8a-9ae3cf582b2b",
   "metadata": {},
   "source": [
    "---"
   ]
  },
  {
   "cell_type": "markdown",
   "id": "8aeb8c1e-3831-4e83-a8d1-2e758af92817",
   "metadata": {},
   "source": [
    "### Path of the Scientist (*insane*)\n",
    "**Final Quest:** PCPP-32-2 Certification\n",
    "```json\n",
    "{\n",
    "  \"Cloud Architecture\": {\n",
    "    \"Manual\": \"Serverless architecture using AWS Lambda\"\n",
    "  },\n",
    "  \"Lower Level Language\": {\n",
    "    \"Manual\": \"Go for high-performance computing\"\n",
    "  },\n",
    "  \"Electronics\": {\n",
    "    \"Manual\": \"Python machine learning\"\n",
    "  },\n",
    "  \"Cybersecurity\": {\n",
    "    \"Manual\": \"OWASP Top 10 for web application security\"\n",
    "  }\n",
    "}\n",
    "```"
   ]
  },
  {
   "cell_type": "markdown",
   "id": "0ff76735",
   "metadata": {},
   "source": []
  }
 ],
 "metadata": {
  "kernelspec": {
   "display_name": "Python 3",
   "language": "python",
   "name": "python3"
  },
  "language_info": {
   "codemirror_mode": {
    "name": "ipython",
    "version": 3
   },
   "file_extension": ".py",
   "mimetype": "text/x-python",
   "name": "python",
   "nbconvert_exporter": "python",
   "pygments_lexer": "ipython3",
   "version": "3.12.6"
  }
 },
 "nbformat": 4,
 "nbformat_minor": 5
}
