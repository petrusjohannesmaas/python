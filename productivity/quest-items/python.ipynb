{
 "cells": [
  {
   "cell_type": "markdown",
   "id": "a1ed7da3-bac2-48f2-a504-e0cd88e9ce27",
   "metadata": {},
   "source": [
    "# Python\n",
    "\n",
    "- This article looks over *(almost)* all of the concepts relating to the Python programming language. \n",
    "- The document is divided into 4 stages, each with some key concepts, topics and descriptions to help break down your research into bite sized chunks. \n",
    "- This should give you a well-organized structure to help guide your Python studies, focusing on both foundational topics and advanced concepts."
   ]
  },
  {
   "cell_type": "markdown",
   "id": "9847abe3",
   "metadata": {},
   "source": [
    "**Documentation:** \n",
    "- [The Python Language Reference](https://docs.python.org/3/reference/introduction.html)\n",
    "- [W3Schools Python resources and references](https://www.w3schools.com/python/)"
   ]
  },
  {
   "cell_type": "markdown",
   "id": "8fe8d8a2-6c14-4843-b5bb-4b847dc560a6",
   "metadata": {
    "jp-MarkdownHeadingCollapsed": true
   },
   "source": [
    "```json\n",
    "\"Easy\": {\n",
    "  \"Concepts\": [\n",
    "    {\n",
    "      \"Topic\": \"Data Types\",\n",
    "      \"Description\": \"Understanding basic data types like integers, floats, strings, booleans, lists, tuples, dictionaries, and sets.\"\n",
    "    },\n",
    "    {\n",
    "      \"Topic\": \"Variables\",\n",
    "      \"Description\": \"Learn how to declare and use variables in Python to store and manipulate data.\"\n",
    "    },\n",
    "    {\n",
    "      \"Topic\": \"Basic Operators\",\n",
    "      \"Description\": \"Using arithmetic, comparison, and logical operators to perform calculations and comparisons.\"\n",
    "    },\n",
    "    {\n",
    "      \"Topic\": \"Control Flow (If/Else)\",\n",
    "      \"Description\": \"Understanding conditional statements to control the execution of code.\"\n",
    "    },\n",
    "    {\n",
    "      \"Topic\": \"Loops (For, While)\",\n",
    "      \"Description\": \"Learn how to use loops to repeat code execution until a condition is met.\"\n",
    "    },\n",
    "    {\n",
    "      \"Topic\": \"Functions\",\n",
    "      \"Description\": \"Learn to define simple functions, pass arguments, and return values.\"\n",
    "    },\n",
    "    {\n",
    "      \"Topic\": \"Importing Modules\",\n",
    "      \"Description\": \"Learn how to import standard library modules to use built-in functionality.\"\n",
    "    }\n",
    "  ]\n",
    "}\n",
    "```"
   ]
  },
  {
   "cell_type": "markdown",
   "id": "17687ac9",
   "metadata": {},
   "source": [
    "---"
   ]
  },
  {
   "cell_type": "markdown",
   "id": "b2c3a735",
   "metadata": {},
   "source": [
    "```json\n",
    "\"Medium\": {\n",
    "    \"Concepts\": [\n",
    "      {\n",
    "        \"Topic\": \"File Handling\",\n",
    "        \"Description\": \"Reading from and writing to files using Python's built-in functions.\"\n",
    "      },\n",
    "      {\n",
    "        \"Topic\": \"List Comprehensions\",\n",
    "        \"Description\": \"Using list comprehensions for more concise and efficient code when working with lists.\"\n",
    "      },\n",
    "      {\n",
    "        \"Topic\": \"Error Handling (Try/Except)\",\n",
    "        \"Description\": \"Learn how to handle errors and exceptions using try-except blocks.\"\n",
    "      },\n",
    "      {\n",
    "        \"Topic\": \"Function Scope\",\n",
    "        \"Description\": \"Understanding local vs global scope in functions and how variables are handled.\"\n",
    "      },\n",
    "      {\n",
    "        \"Topic\": \"Basic Classes\",\n",
    "        \"Description\": \"Introduction to object-oriented programming by defining classes and creating objects.\"\n",
    "      },\n",
    "      {\n",
    "        \"Topic\": \"Working with Libraries\",\n",
    "        \"Description\": \"Using third-party libraries like `requests` and `json` for web development and data handling.\"\n",
    "      },\n",
    "      {\n",
    "        \"Topic\": \"Basic Debugging\",\n",
    "        \"Description\": \"Learn to use print statements and debuggers like `pdb` to troubleshoot code.\"\n",
    "      }\n",
    "    ]\n",
    "  }\n",
    "  ```"
   ]
  },
  {
   "cell_type": "markdown",
   "id": "8aa82903",
   "metadata": {},
   "source": [
    "---"
   ]
  },
  {
   "cell_type": "markdown",
   "id": "cda7191a",
   "metadata": {},
   "source": [
    "```json\n",
    "  \"Hard\": {\n",
    "    \"Concepts\": [\n",
    "      {\n",
    "        \"Topic\": \"Object-Oriented Programming (OOP)\",\n",
    "        \"Description\": \"Learn about inheritance, encapsulation, and polymorphism, and how to apply these OOP principles in Python.\"\n",
    "      },\n",
    "      {\n",
    "        \"Topic\": \"Decorators\",\n",
    "        \"Description\": \"Understand and use decorators to modify functions and methods efficiently.\"\n",
    "      },\n",
    "      {\n",
    "        \"Topic\": \"Generators\",\n",
    "        \"Description\": \"Learn how to create and use generators to handle large datasets efficiently with minimal memory usage.\"\n",
    "      },\n",
    "      {\n",
    "        \"Topic\": \"Context Managers (`with` Statement)\",\n",
    "        \"Description\": \"Learn how to manage resources (e.g., file I/O) more efficiently using context managers.\"\n",
    "      },\n",
    "      {\n",
    "        \"Topic\": \"Advanced File I/O\",\n",
    "        \"Description\": \"Work with binary files, handle large files, and use buffer strategies for performance.\"\n",
    "      },\n",
    "      {\n",
    "        \"Topic\": \"Regular Expressions\",\n",
    "        \"Description\": \"Learn to use regular expressions for pattern matching and text processing.\"\n",
    "      },\n",
    "      {\n",
    "        \"Topic\": \"Concurrency (Threads, Async)\",\n",
    "        \"Description\": \"Introduction to running parallel tasks using threads, and asynchronous programming with `asyncio`.\"\n",
    "      }\n",
    "    ]\n",
    "  }\n",
    "  ```"
   ]
  },
  {
   "cell_type": "markdown",
   "id": "88a7b8fa",
   "metadata": {},
   "source": [
    "---"
   ]
  },
  {
   "cell_type": "markdown",
   "id": "d500221e",
   "metadata": {},
   "source": [
    "  ```json\n",
    "  \"Advanced\": {\n",
    "    \"Concepts\": [\n",
    "      {\n",
    "        \"Topic\": \"Metaprogramming\",\n",
    "        \"Description\": \"Learn how to write code that manipulates other code (e.g., using `eval()`, dynamic class creation).\"\n",
    "      },\n",
    "      {\n",
    "        \"Topic\": \"Descriptors\",\n",
    "        \"Description\": \"Understand the descriptor protocol to manage the attributes of classes.\"\n",
    "      },\n",
    "      {\n",
    "        \"Topic\": \"Memory Management\",\n",
    "        \"Description\": \"Learn about Python's memory model, garbage collection, and how to optimize memory usage.\"\n",
    "      },\n",
    "      {\n",
    "        \"Topic\": \"Cython and Performance Optimization\",\n",
    "        \"Description\": \"Optimize Python code by using Cython or other performance enhancement techniques.\"\n",
    "      },\n",
    "      {\n",
    "        \"Topic\": \"Concurrency (Multiprocessing)\",\n",
    "        \"Description\": \"Dive deep into parallelism using the `multiprocessing` library for CPU-bound tasks.\"\n",
    "      },\n",
    "      {\n",
    "        \"Topic\": \"Custom Metaclasses\",\n",
    "        \"Description\": \"Learn how to create and use custom metaclasses to control class creation.\"\n",
    "      },\n",
    "      {\n",
    "        \"Topic\": \"Low-Level Networking\",\n",
    "        \"Description\": \"Explore advanced networking with raw sockets, HTTP/2, and other low-level networking protocols.\"\n",
    "      }\n",
    "    ]\n",
    "  }"
   ]
  },
  {
   "cell_type": "markdown",
   "id": "c3447e48",
   "metadata": {},
   "source": [
    "---"
   ]
  }
 ],
 "metadata": {
  "kernelspec": {
   "display_name": "Python 3 (ipykernel)",
   "language": "python",
   "name": "python3"
  },
  "language_info": {
   "codemirror_mode": {
    "name": "ipython",
    "version": 3
   },
   "file_extension": ".py",
   "mimetype": "text/x-python",
   "name": "python",
   "nbconvert_exporter": "python",
   "pygments_lexer": "ipython3",
   "version": "3.12.6"
  }
 },
 "nbformat": 4,
 "nbformat_minor": 5
}
